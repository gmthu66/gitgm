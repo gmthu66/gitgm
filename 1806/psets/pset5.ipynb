{
 "cells": [
  {
   "cell_type": "markdown",
   "metadata": {},
   "source": [
    "# 18.06 pset 5 (due Wed 10/11)"
   ]
  },
  {
   "cell_type": "markdown",
   "metadata": {},
   "source": [
    "## Problem 1\n",
    "\n",
    "A symmetric, square $m \\times m$ matrix $B = B^T$ is called **positive definite** if $x^T B x > 0$ for all vectors $x \\ne 0$ ($x \\in \\mathbb{R}^m$).  If $B$ is such a matrix, then:\n",
    "\n",
    "* What is the nullspace of $B$?\n",
    "\n",
    "* For any matrix $C$, $C^T C$ is symmetric.  Under what condition on $C$ is $C^T C$ also positive definite?  (Hint: from problem 2 of pset 4, $N(C^T C) = N(C)$.)  $C$ must be full `___________` rank.\n",
    "\n",
    "* Explain why $N(A^T B A) = N(A)$ for any $m \\times n$ matrix $A$.  (Hint: this is similar to problem 2 of pset 4, which was the special case of B = `____`.)  Hence the ranks of $A^T B A$ and $A$ are `___________`, and if $A$ is full column rank then $A^T B A$ is `___________`."
   ]
  },
  {
   "cell_type": "markdown",
   "metadata": {},
   "source": [
    "## Problem 2\n",
    "\n",
    "In chemistry, the [stoichiometry matrix](https://en.wikipedia.org/wiki/Stoichiometry#Stoichiometry_matrix) is often used to describe a set of $m$ reactions among $n$ different chemical \"species\" (e.g. H₂O, C₈H₁₀N₄O₂, and so on).\n",
    "\n",
    "For example, consider the following 3 (fictitious) chemical reactions among 4 species, labeled $x_1, x_2, x_3, x_4$:\n",
    "\n",
    "$$\n",
    "x_1 + 2x_2 \\longleftrightarrow 3 x_2 + 2x_4 \\\\\n",
    "2x_2 + 4x_3 \\longleftrightarrow x_1 + x_4 \\\\\n",
    "x_1 + 4x_3 \\longleftrightarrow 5x_4\n",
    "$$\n",
    "\n",
    "which would be represented by the stoichiometry matrix\n",
    "\n",
    "$$\n",
    "S = \\begin{pmatrix} -1 & 3-2 & 0 & 2 \\\\\n",
    "1 & -2 & -4 & 1 \\\\\n",
    "-1 & 0 & -4 & 5 \\end{pmatrix}\n",
    "$$\n",
    "\n",
    "whose rows are the reactions and whose columns are the species.  (Some authors use the transpose of this matrix instead.)\n",
    "\n",
    "If we use a vector $\\vec{x} \\in \\mathbb{R}^4$ to represent the *concentrations* of each of these four species, and a vector $\\vec{r} \\in \\mathbb{R}^3$ to represent the *rates* of each reaction, then the rate of change of the concentrations is given by the system of ordinary differential equations (ODEs):\n",
    "\n",
    "$$\n",
    "\\frac{d\\vec{x}}{dt} = S^T \\vec{r}\n",
    "$$\n",
    "\n",
    "(where the rates $\\vec{r}$ are *not* generally constant: they may depend on the concentrations $\\vec{x}$ in a complicated way … so you *can't* solve this just by multiplying the right-hand side by $t$).\n",
    "\n",
    "* Describe (find a basis for) *all* possible reaction rates $\\vec{r}$ for which $\\frac{d\\vec{x}}{dt} = 0$ (the system is in *steady state*).\n",
    "\n",
    "* Certain linear combinations of the concentrations are *conserved*: there are some (time-independent) vectors $\\vec{v} \\in \\mathbb{R}^4$ for which $\\frac{d(\\vec{v}^T \\vec{x})}{dt} = 0$ for *all* possible rate vectors $\\vec{r}$.   If $\\vec{v}$ doesn't depend on $t$, then $\\frac{d(\\vec{v}^T \\vec{x})}{dt}$ is `______` times $\\frac{d\\vec{x}}{dt}$. These vectors $\\vec{v}$ all lie within the `___`-dimensional `___________` space of $S$.  Why?\n",
    "\n",
    "(Note: you don't need to know any 18.03 to solve this problem!)"
   ]
  },
  {
   "cell_type": "markdown",
   "metadata": {},
   "source": [
    "## Problem 3\n",
    "\n",
    "(From Strang, section 10.1, problem 11.)\n",
    "\n",
    "The following matrix $A$ is the incidence matrix of the 6-node graph from lecture 11:"
   ]
  },
  {
   "cell_type": "code",
   "execution_count": null,
   "metadata": {
    "collapsed": true
   },
   "outputs": [],
   "source": [
    "A = [ -1   0   0   1   0   0\n",
    "       0   0   0  -1   1   0\n",
    "       0   0   0   0  -1   1\n",
    "       0   0   1   0   0  -1\n",
    "       0   1  -1   0   0   0\n",
    "       1  -1   0   0   0   0\n",
    "       0  -1   0   0   0   1\n",
    "       0   0   0  -1   0   1]"
   ]
  },
  {
   "cell_type": "markdown",
   "metadata": {},
   "source": [
    "* Compute $A^T A$ (you can use Julia or do it by hand)\n",
    "\n",
    "* The diagonal of $A^T A$ tells you how many `_____` to each node.\n",
    "\n",
    "* The off-diagonals (-1 or 0) tell you which pairs of nodes are `______`.\n",
    "\n",
    "* The rank of $A^T A$ is `_______` and a basis for its nullspace is `_____`.   (You shouldn't have to do elimination!  Hint: we already looked at $N(A)$ in lecture.)"
   ]
  },
  {
   "cell_type": "markdown",
   "metadata": {},
   "source": [
    "## Problem 4\n",
    "\n",
    "**For this problem, the handwritten solutions you turn in should contain a brief description of what you did and the results, and you should also print your notebook to PDF and upload the PDF to Stellar.  (Or alternatively attach a printed copy of this section of your notebook to your solutions.)**\n",
    "\n",
    "The following equations describe a circle and a parabola:\n",
    "\n",
    "$$\n",
    "x_1^2 + x_2^2 = 4 \\\\\n",
    "x_2 = x_1^2 - 3 \n",
    "$$\n",
    "\n",
    "whose curves we can plot as follows:"
   ]
  },
  {
   "cell_type": "code",
   "execution_count": null,
   "metadata": {
    "collapsed": true
   },
   "outputs": [],
   "source": [
    "using PyPlot\n",
    "θ = linspace(0,2π,200)\n",
    "plot(2cos.(θ), 2sin.(θ), \"r-\")\n",
    "x = linspace(-2.5,2.5,200)\n",
    "plot(x, x.^2 - 3, \"b-\")\n",
    "axis(\"equal\")\n",
    "legend([\"circle\", \"parabola\"])\n",
    "xlabel(L\"x_1\"); ylabel(L\"x_2\")\n",
    "grid()"
   ]
  },
  {
   "cell_type": "markdown",
   "metadata": {},
   "source": [
    "Now, let's try to find the *intersection*(s) of these two curves via Newton's method.\n",
    "\n",
    "We are trying to find the root of $\\vec{f}(\\vec{x}) = \\vec{0}$, where $\\vec{f}(\\vec{x}) = \\begin{pmatrix} x_1^2 + x_2^2 - 4 \\\\ x_1^2 - 3 - x_2 \\end{pmatrix}$ is computed by the following function in Julia:"
   ]
  },
  {
   "cell_type": "code",
   "execution_count": null,
   "metadata": {
    "collapsed": true
   },
   "outputs": [],
   "source": [
    "f(x) = [ x[1]^2 + x[2]^2 - 4\n",
    "         x[1]^2 - 3 - x[2]   ]"
   ]
  },
  {
   "cell_type": "markdown",
   "metadata": {},
   "source": [
    "### (a)\n",
    "\n",
    "Now, define a function `J(x)` that computes the 2×2 Jacobian matrix of $\\vec{f}(\\vec{x})$:"
   ]
  },
  {
   "cell_type": "code",
   "execution_count": null,
   "metadata": {
    "collapsed": true
   },
   "outputs": [],
   "source": [
    "J(x) = [ ???   ???\n",
    "         ???   ??? ]"
   ]
  },
  {
   "cell_type": "markdown",
   "metadata": {},
   "source": [
    "Check that Newton's method converges to a solution by plugging in an initial guess that is close to one of the intersections (by inspection from the plot above) and running it for 10 iterations:"
   ]
  },
  {
   "cell_type": "code",
   "execution_count": null,
   "metadata": {
    "collapsed": true
   },
   "outputs": [],
   "source": [
    "x = [ ????\n",
    "      ???? ]  # initial guess"
   ]
  },
  {
   "cell_type": "code",
   "execution_count": null,
   "metadata": {
    "collapsed": true
   },
   "outputs": [],
   "source": [
    "for i = 1:10\n",
    "    x = x - J(x) \\ f(x) # Newton step\n",
    "    println(\"x₁,x₂ = \", x[1], \", \", x[2])\n",
    "end"
   ]
  },
  {
   "cell_type": "markdown",
   "metadata": {},
   "source": [
    "If your initial guess is decent, it should converge almost *too* fast to see what is happening!\n",
    "\n",
    "(If it is *not* converging, you made a mistake: **fix your mistake before continuing**.)\n",
    "\n",
    "### (b)\n",
    "\n",
    "Try a worse initial guess of `x = [0.1, 0.1]`: it should still converge after a few steps."
   ]
  },
  {
   "cell_type": "code",
   "execution_count": null,
   "metadata": {
    "collapsed": true
   },
   "outputs": [],
   "source": [
    "x = [0.1, 0.1]\n",
    "for i = 1:15\n",
    "    x = x - J(x) \\ f(x) # Newton step\n",
    "    println(\"x₁,x₂ = \", x[1], \", \", x[2])\n",
    "end"
   ]
  },
  {
   "cell_type": "markdown",
   "metadata": {},
   "source": [
    "More precisely, it should be converging to the \"exact\" solution $\\vec{x}_0$ = (1.902113032590307, 0.6180339887498948).\n",
    "\n",
    "How many Newton steps are required for the distance $\\Vert \\vec{x} - \\vec{x}_0 \\Vert = \\sqrt{(\\vec{x} - \\vec{x}_0)^T (\\vec{x} - \\vec{x}_0)}$, computed by `norm(x - x₀)` in Julia, to fall below $10^{-10}$ for this \"bad\" starting guess?"
   ]
  },
  {
   "cell_type": "code",
   "execution_count": null,
   "metadata": {
    "collapsed": true
   },
   "outputs": [],
   "source": [
    "x₀ = [1.902113032590307, 0.6180339887498948]"
   ]
  },
  {
   "cell_type": "code",
   "execution_count": null,
   "metadata": {
    "collapsed": true
   },
   "outputs": [],
   "source": []
  },
  {
   "cell_type": "markdown",
   "metadata": {},
   "source": [
    "### (c)\n",
    "\n",
    "From the graph, you should see that there are *four* possible solutions. *Which* one is found by Newton's method depends very sensitively on your initial guess.\n",
    "\n",
    "To explore this the following code tries lots of different starting guesses $\\vec{x}$, and plots a different color for each point depending on *which* of the four solutions is found. Try it:"
   ]
  },
  {
   "cell_type": "code",
   "execution_count": null,
   "metadata": {
    "collapsed": true
   },
   "outputs": [],
   "source": [
    "using PyPlot\n",
    "\n",
    "# sets of initial x₁ and x₂ points to try\n",
    "x₁ = linspace(-3,3,600) # 600 points between -3 and 3\n",
    "x₂ = linspace(-1,0,600) # 600 points between -1 and 0\n",
    "\n",
    "# a little function to do the Newton iterations:\n",
    "function newton(f, x)\n",
    "    for i = 1:100\n",
    "        x₀ = x\n",
    "        x -= J(x) \\ f(x)\n",
    "        norm(x - x₀) < 1e-10 && return x, i # stop if converged\n",
    "    end\n",
    "    return x, 101\n",
    "end\n",
    "solutions = [newton(f, [x₁, x₂]) for x₂ in x₂, x₁ in x₁]\n",
    "whichsolution = map(sol -> atan2(sol[1][2],sol[1][1]), solutions) # angle for each sol\n",
    "\n",
    "pcolor(x₁', x₂, whichsolution, cmap=\"gist_rainbow\")\n",
    "xlabel(L\"x_1\")\n",
    "ylabel(L\"x_2\")\n",
    "title(\"color = solution found by Newton\")"
   ]
  },
  {
   "cell_type": "markdown",
   "metadata": {},
   "source": [
    "It is also interesting to plot the number of iterations for the Newton iterations to converge, which also vary greatly depending on the initial guess:"
   ]
  },
  {
   "cell_type": "code",
   "execution_count": null,
   "metadata": {
    "collapsed": true
   },
   "outputs": [],
   "source": [
    "using PyPlot # this is redundant if you executed the earlier cells\n",
    "             # but it doesn't hurt to to it again to prevent errors\n",
    "             # if you are executing the cells out of order\n",
    "\n",
    "pcolor(x₁', x₂, last.(solutions), cmap=\"inferno\")\n",
    "xlabel(L\"x_1\")\n",
    "ylabel(L\"x_2\")\n",
    "title(\"number of iterations for Newton to converge\")\n",
    "colorbar()"
   ]
  },
  {
   "cell_type": "markdown",
   "metadata": {},
   "source": [
    "If you did it right, your plots should be an example of a famous phenomenon called a [Newton fractal](https://en.wikipedia.org/wiki/Newton_fractal).\n",
    "\n",
    "(A fun thing to do would be to change the initial `x₁ = linspace(...)` and `x₂ = linspace(...)` lines to zoom in on some interesting portion of the fractal.)"
   ]
  }
 ],
 "metadata": {
  "kernelspec": {
   "display_name": "Julia 0.6.0",
   "language": "julia",
   "name": "julia-0.6"
  },
  "language_info": {
   "file_extension": ".jl",
   "mimetype": "application/julia",
   "name": "julia",
   "version": "0.6.0"
  }
 },
 "nbformat": 4,
 "nbformat_minor": 2
}
