{
 "cells": [
  {
   "cell_type": "markdown",
   "metadata": {},
   "source": [
    "# 18.06 pset 3 solutions"
   ]
  },
  {
   "cell_type": "markdown",
   "metadata": {},
   "source": [
    "## Problem 1 (10 points)\n",
    "\n",
    "* Does $C(A)$ necessarily *contain* the $C(AB)$ or vice versa?  (That is, is $C(A) \\subseteq C(AB)$ or $C(AB) \\subseteq C(A)$?)\n",
    "* What needs to be true of $B$ to have $C(A) = C(AB)$ for all $A$?\n",
    "* Give an example of a square matrix $A$ where $C(A^2)$ issmaller than $C(A)$.\n",
    "* Explain why $C(A) = C([A \\; AB])$: that is, augumenting $A$ with the additional columns $AB$ does not change the column space (for any $B$)."
   ]
  },
  {
   "cell_type": "markdown",
   "metadata": {},
   "source": [
    "### Solution\n",
    "\n",
    "To give numbers to the size of $A$ and $B$, suppose $A$ is $m \\times n$ and $B$ is $n \\times p$ (this is the general case where the product $AB$ makes sense).\n",
    "\n",
    "* $C(A)$ contains $C(AB)$, i.e. $$\\boxed{C(AB) \\subseteq C(A)}.$$  To see this, remember that if $M$ is a matrix, then its column space $C(M)$ consists of the vectors $Mv$ where $v$ is any column vector so that the product makes sense.  That means that $$C(A) = \\{Av : v \\in \\mathbb{R}^n\\}$$ and $$C(AB) = \\{ABw : w \\in \\mathbb{R}^p\\}.$$  But then for any vector $x \\in C(AB)$, we have $x = (AB)w = A(Bw)$ for some vector $w \\in \\mathbb{R}^p$, and hence $x = Av$ where $v = Bw \\in \\mathbb{R}^n$, so $x \\in C(A)$.  So every $x$ in $C(AB)$ is in $C(A)$, so $C(AB) \\subseteq C(A)$.\n",
    "\n",
    "* To have $C(A) = C(AB)$ for all $A$, then $B$ needs to have **full row rank**.  That is, $C(B)$ needs to be $\\mathbb{R}^n$ (full row rank): this way, $C(AB) = \\{ABw : w \\in \\mathbb{R}^p\\}$ is the *same* as $C(A) = \\{Ax : x \\in \\mathbb{R}^n\\}$, since $Bw$ for all $w$ gives every vector $x \\in \\mathbb{R}^n$.   Conversely, if $B$ does *not* have full row rank, so that $C(B)$ is \"missing\" some vectors in $\\mathbb{R}^n$, then $C(AB)$ *might* (depending on A) be missing some vectors in $C(A)$ because you are not multipyling $A$ by all possible vectors.\n",
    "\n",
    "  - A partial solution would be to say that $B$ must be invertible.  It is certainly true that $C(A) = C(AB)$ if $B$ is invertible, since if $x=Ay \\in C(A)$ then $x=AB(B^{-1}y) \\in C(AB)$.  But invertibility is not *necessary*, since if you append additional columns to an invertible $B$ you don't change $C(B)$ or $C(AB)$ (and $B$ is still full row rank).\n",
    "\n",
    "  - More generally, if we have a *specific* $A$ and want to know conditions on $B$ to have $C(A) = C(AB)$, you can answer it as follows (you were *not* expected to do this, however).  One finds that we must have: $$\\boxed{N(A) + C(B) = \\mathbb{R}^n},$$ i.e. if and only if $N(A)$ and $C(B)$ together span $\\mathbb{R}^n$ (what we care about is the \"if\" direction).  We already know that $C(AB) \\subset C(A)$ always, so we have $C(A) = C(AB)$ if and only if $C(A) \\subset C(AB)$.  First suppose that indeed $C(A) \\subset C(AB)$.  Then for any vector $v \\in \\mathbb{R}^n$ we have $Av \\in C(A) \\subset C(AB)$, so $Av \\in C(AB)$ and therefore there is some vector $w \\in \\mathbb{R}^p$ such that $ABw = Av$.  But then $0 = Av - ABw = A(v - Bw)$, so $(v - Bw) \\in N(A)$.  So, $v = (v - Bw) + Bw$.  As $(v - Bw) \\in N(A)$ and $Bw \\in C(B)$ and $v \\in \\mathbb{R}^n$ was arbitrary, this shows that $N(A) + C(B) = \\mathbb{R}^n$.  To show that the implication goes the other way too, suppose that $N(A) + C(B) = \\mathbb{R}^n$.  Let $x \\in C(A)$ be any vector.  Then by the definition of column space there is a vector $v \\in \\mathbb{R}^n$ such that $x = Av$.  As $N(A) + C(B) = \\mathbb{R}^n$ by assumption, there are vectors $n \\in N(A)$ and $c \\in C(B)$ such that $v = n + c$.  By definition of $C(B)$, there is then a vector $w \\in \\mathbb{R}^p$ such that $Bw = c$.  But then as $An = 0$ by definiton of $N(A)$, we have $$x = Av = A(n + c) = An + Ac = Ac = A(Bw) = (AB)w \\in C(AB).$$  So $x \\in C(AB)$.  As $x \\in C(A)$ was arbitrary, we see that $C(A) \\subset C(AB)$, so $C(A) = C(AB)$, as needed.\n",
    "\n",
    "* The column space of a matrix is nonzero if and only if the matrix itself is nonzero.  However, the square of a nonzero matrix can be zero!  So if we can find a (square) matrix $A$ such that $A \\neq 0$ but $A^2 = 0$, then $A$ will do the trick (clearly, $A$ can't be $1 \\times 1$).  There are lots of such matrices, and we could look for a $2 \\times 2$ example as follows.  That $A^2 = 0$ just means that $C(A) \\subset N(A)$ (why?).  As $A^2 = 0$, $A$ is singular, so we can't have $N(A) = \\{0\\}$.  At the same time, if $N(A) = \\mathbb{R}^2$ then $A = 0$ (why?), and we don't want $A = 0$, so we can't have $N(A) = \\mathbb{R}^2$ either.  But $N(A)$ is a subspace of $\\mathbb{R}^2$ so it's either $\\{0\\}$, a line through $0$, or all of $\\mathbb{R}^2$, so it must be a line through $0$.  One line is as good as the next, so let's suppose that $N(A) = \\text{Span}(e_1)$, where $e_1 = \\begin{pmatrix} 1 \\\\ 0\\end{pmatrix}$.  Then $Ae_1 = 0$, and $Ae_1$ is the first column of $A$.  The second column of $A$ is $Ae_2$, where $e_2 = \\begin{pmatrix} 0 \\\\ 1\\end{pmatrix}$.  We need to rig that $AAe_2 = 0$ but $Ae_2 \\neq 0$, i.e. we need to choose a second column $Ae_2$ that is nonzero but that lies on the nullspace line $\\text{Span}(e_1)$.  Choosing $Ae_2 = e_1$ is a perfectly natural choice, and the resulting matrix is $$\\boxed{A = \\begin{pmatrix} 0 & 1 \\\\ 0 & 0\\end{pmatrix}}.$$\n",
    "\n",
    "* Consider the span $\\text{Span}(v_1, ..., v_n)$ of some vectors.  What happens if I add a new vector $v$ to the list?  Does the span get larger?  Well, definitely $v \\in \\text{Span}(v_1, ..., v_n, v)$, so if $v$ isn't already in the span $\\text{Span}(v_1, ..., v_n)$ then it will get larger (it will now contain $v$ when it didn't before).  But if $v$ *is* already in $\\text{Span}(v_1, ..., v_n)$, then the span $\\text{Span}(v_1, ..., v_n, v)$ isn't any bigger than the span $\\text{Span}(v_1, ..., v_n)$ (so they're equal).  The reason is that if $v \\in \\text{Span}(v_1, ..., v_n)$ then by definition $v = c_1v_1 + \\cdots + c_nv_n$ for some coefficients $c_1, ..., c_n$.  But then any linear combination of $v_1, ..., v_n, v$ just looks like: $$a_1v_1 + \\cdots a_nv_n + av = a_1v_1 + \\cdots a_nv_n + a(c_1v_1 + \\cdots + c_nv_n) = (a_1 + ac_1)v_1 + \\cdots + (a_n + ac_n)v_1$$ and is already a linear combination of $v_1, ..., v_n$ *without* $v$.  **Conclusion:** Adding a new vector already in the span of a list of vectors doesn't increase the span.  That $C(A) = C([A\\ AB])$ follows from this right away.  $C(A)$ is the span of the columns of $A$, and $C([A\\ AB])$ is the span of the columns of $A$ along with the columns of $AB$.  If the columns of $AB$ are already in $C(A)$, then adding these new columns doesn't increase the span.  But if $B$ has columns $b_1, ..., b_p$, then $AB$ has columns $Ab_1, ..., Ab_p$.  But any vector $Av$ is in $C(A)$, so all these new columns $Ab_i$ were already in $C(A)$, so the column space doesn't get any bigger."
   ]
  },
  {
   "cell_type": "markdown",
   "metadata": {},
   "source": [
    "## Problem 2 (10 points)\n",
    "\n",
    "(From Strang, section 3.2, problem 31.)  Find the reduced row echelon forms $R$, the rank, and the special solutions (i.e. a basis for $N(A)$) for each of these matrices:\n",
    "\n",
    "* The 3×4 matrix with all entries equal to 4.\n",
    "* The 3×4 matrix with entries $a_{ij} = i + j - 1$\n",
    "* The 3×4 matrix with $a_{ij} = (-1)^j$"
   ]
  },
  {
   "cell_type": "markdown",
   "metadata": {},
   "source": [
    "### Solution\n",
    "\n",
    "* **Case 1: The 3×4 matrix with all entries equal to 4.**\n",
    "\n",
    "We start with the matrix: $$\\begin{pmatrix} 4 & 4 & 4 & 4 \\\\ 4 & 4 & 4 & 4 \\\\ 4 & 4 & 4 & 4 \\end{pmatrix}$$  Subtracting the first row from the second row and also from the third row, we obtain: $$\\begin{pmatrix} 4 & 4 & 4 & 4 \\\\ 0 & 0 & 0 & 0 \\\\ 0 & 0 & 0 & 0 \\end{pmatrix}$$  Scaling the first row by $1/4$, we obtain the reduced row echelon form: $$\\boxed{\\begin{pmatrix} 1 & 1 & 1 & 1 \\\\ 0 & 0 & 0 & 0 \\\\ 0 & 0 & 0 & 0 \\end{pmatrix}}$$  There is only one pivot (it lives in the first column), so the $$\\boxed{\\text{rank is }1}.$$  The free variables are the variables $x_2, x_3, x_4$ corresponding to the last 3 columns.  To find the special solutions, we solve the corresponding reduced system of equations for the various cases in which one of the free variables is 1 and the others are 0.  The equation to solve is $x_1 + x_2 + x_3 + x_4 = 0$.  If one of $x_2, x_3, x_4$ is 1 and the others are 0, then $x_1 = -1$.  So the special solutions, giving a basis for the nullspace, are:  $$\\boxed{\\begin{pmatrix} -1 \\\\ 1 \\\\ 0 \\\\ 0\\end{pmatrix},\\begin{pmatrix} -1 \\\\ 0 \\\\ 1 \\\\ 0\\end{pmatrix},\\begin{pmatrix} -1 \\\\ 0 \\\\ 0 \\\\ 1\\end{pmatrix}}$$\n",
    "\n",
    "\n",
    "* **Case 2: The 3×4 matrix with entries $a_{ij} = i + j - 1$**\n",
    "\n",
    "Now we're looking at the matrix: $$\\begin{pmatrix} 1 & 2 & 3 & 4 \\\\ 2 & 3 & 4 & 5 \\\\ 3 & 4 & 5 & 6\\end{pmatrix}$$  Subtracting twice the first row from the second and three of the first row from the third gives: $$\\begin{pmatrix} 1 & 2 & 3 & 4 \\\\ 0 & -1 & -2 & -3 \\\\ 0 & -2 & -4 & -6\\end{pmatrix}$$ Scaling the second row by -1 and then subtracting two of the second row from the first and adding two of the second row to the third gives the reduced row echelon form: $$\\boxed{\\begin{pmatrix} 1 & 0 & -1 & -2 \\\\ 0 & 1 & 2 & 3 \\\\ 0 & 0 & 0 & 0\\end{pmatrix}}$$\n",
    "\n",
    "There are two pivots (living in the first two columns), so the $$\\boxed{\\text{rank is } 2}.$$\n",
    "\n",
    "There are two free variables $x_3, x_4$ corresponding to the final two columns without pivots.  The reduced system of equations we need to solve is:  $$x_1 - x_3 - 2x_4 = 0$$ $$x_2 + 2x_3 + 3x_4 = 0$$  When $x_3 = 1$ and $x_4 = 0$ we get $x_1 = 1$ and $x_2 = -2$.  When $x_3 = 0$ and $x_4 = 1$ we get $x_1 = 22$ and $x_2 = -3$.  So, the special solutions are: $$\\boxed{\\begin{pmatrix} 1 \\\\ -2 \\\\ 1 \\\\ 0\\end{pmatrix}, \\begin{pmatrix} 2 \\\\ -3 \\\\ 0 \\\\ 1\\end{pmatrix}}$$\n",
    "\n",
    "\n",
    "* **Case 3: The 3×4 matrix with $a_{ij} = (-1)^j$**\n",
    "\n",
    "The matrix is: $$\\begin{pmatrix} -1 & 1 & - 1 & 1 \\\\ -1 & 1 & - 1 & 1 \\\\ -1 & 1 & - 1 & 1\\end{pmatrix}$$  Scaling the first row by -1 and then adding it to each of the rows below it, we obtain the reduced row echelon form: $$\\boxed{\\begin{pmatrix} 1 & -1 & 1 & -1 \\\\ 0 & 0 & 0 & 0 \\\\ 0 & 0 & 0 & 0\\end{pmatrix}}$$\n",
    "\n",
    "There is one pivot (living in the first column), so the $$\\boxed{\\text{rank is } 1}.$$\n",
    "\n",
    "There are three free variables $x_2, x_3, x_4$ corresponding to the last three columns.  The reduced system of equations is just one (nontrivial) equation: $$x_1 = x_2 - x_3 + x_4.$$  Considering the three cases in which exactly one of $x_2, x_3, x_4$ is 1 and the other two are 0, we see that the special solutions are: $$\\boxed{\\begin{pmatrix}1 \\\\ 1 \\\\ 0 \\\\ 0\\end{pmatrix}, \\begin{pmatrix}-1 \\\\ 0 \\\\ 1 \\\\ 0\\end{pmatrix}, \\begin{pmatrix}1 \\\\ 0 \\\\ 0 \\\\ 1\\end{pmatrix}}$$"
   ]
  },
  {
   "cell_type": "markdown",
   "metadata": {},
   "source": [
    "## Problem 3 (10 points)\n",
    "\n",
    "(From Strang, section 3.3, problem 5.)\n",
    "\n",
    "Under what conditions on $b_1$, $b_2$, and $b_3$ is this system solvable. (Include $b$ as a fourth column in elimination.)   Find all solutions (particular solution + nullspace vectors) when that condition holds:\n",
    "\n",
    "$$\n",
    "x + 2y - 2z = b_1 \\\\\n",
    "2x + 5y - 4z = b_2 \\\\\n",
    "4x + 9y - 8z = b_3\n",
    "$$"
   ]
  },
  {
   "cell_type": "markdown",
   "metadata": {},
   "source": [
    "### Solution\n",
    "\n",
    "We can solve the system by, for example, performing row operations on the augmented matrix so the matrix to the left of the bar is in row reduced echelon form: $$\\left(\\begin{array}{ccc|c} 1 & 2 & -2 & b_1 \\\\ 2 & 5 & -4 & b_2 \\\\ 4 & 9 & -8 & b_3\\end{array}\\right)$$  Subtracting two of the first row from the second and 4 of the first row from the third, we obtain: $$\\left(\\begin{array}{ccc|c} 1 & 2 & -2 & b_1 \\\\ 0 & 1 & 0 & b_2 - 2b_1 \\\\ 0 & 1 & 0 & b_3 - 4b_1\\end{array}\\right)$$  Subtracting the second row from the third row and twice the second row from the first row, we obtain: $$\\left(\\begin{array}{ccc|c} 1 & 0 & -2 & 5b_1 - 2b_2 \\\\ 0 & 1 & 0 & b_2 - 2b_1 \\\\ 0 & 0 & 0 & b_3 - b_2 - 2b_1\\end{array}\\right)$$  The last equation says that the condition $0 = b_3 - b_2 - 2b_1 = 0$ must be satisfied for the system to have a solution.  Furthermore, there are two pivots in the first two rows, so the first two equations can be solved for any choice of $b_1, b_2$; setting $b_3 = b_2 + 2b_1$, the third equation is then satisfied as well.  So, we see that the system in the problem statement $$\\boxed{\\text{has solutions if and only if } b_3 = b_2 + 2b_1}$$  In this case, if we set $z = 0$ then we can easily read off the values of $x$ and $y$ giving a particular solution: $x = 3b_1 - b_2$ and $y = b_2 - 2b_1.$  So the vector $$v_0 = \\begin{pmatrix} 5b_1 - 2b_2 \\\\ b_2 - 2b_1 \\\\ 0\\end{pmatrix}$$ gives a particular solution.\n",
    "\n",
    "In the above form, $z$ is the unique free variable.  Considering the homogeneous reduced system $$\\left(\\begin{array}{ccc|c} 1 & 0 & -2 & 0 \\\\ 0 & 1 & 0 & 0 \\\\ 0 & 0 & 0 & 0\\end{array}\\right)$$ and setting $z = 1$, we get the nullspace vector $$n = \\begin{pmatrix} 2 \\\\ 0 \\\\ 1\\end{pmatrix}$$ and this vector spans the entire nullspace.\n",
    "\n",
    "The entire solution set is therefore given by the line through $v_0$ in the direction of $n$: $$\\boxed{\\text{Solution set = } \\{v_0 + zn : z \\in \\mathbb{R}\\} = \\left\\{\\begin{pmatrix} 5b_1 - 2b_2 + 2z\\\\ b_2 - 2b_1 \\\\ z\\end{pmatrix} : z \\in \\mathbb{R}\\right\\}}$$"
   ]
  }
 ],
 "metadata": {
  "kernelspec": {
   "display_name": "Julia 0.6.0",
   "language": "julia",
   "name": "julia-0.6"
  },
  "language_info": {
   "file_extension": ".jl",
   "mimetype": "application/julia",
   "name": "julia",
   "version": "0.6.0"
  }
 },
 "nbformat": 4,
 "nbformat_minor": 2
}
