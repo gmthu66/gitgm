{
 "cells": [
  {
   "cell_type": "markdown",
   "metadata": {},
   "source": [
    "# 18.06 pset 12\n",
    "\n",
    "Due Friday, December 8 at 11am."
   ]
  },
  {
   "cell_type": "markdown",
   "metadata": {},
   "source": [
    "## Problem 1 (20 points)\n",
    "\n",
    "Execute the following code cells in the Julia notebook, reading along, and answer the question at the end.\n",
    "\n",
    "The following matrix represents the famous [Iris flower dataset](https://en.wikipedia.org/wiki/Iris_flower_data_set). Each row is a different flower (150 flowers), and the columns are the measurements (in cm) of the lengths of four different flower parts."
   ]
  },
  {
   "cell_type": "code",
   "execution_count": null,
   "metadata": {
    "collapsed": true
   },
   "outputs": [],
   "source": [
    "X = [5.1 3.5 1.4 0.2; 4.9 3.0 1.4 0.2; 4.7 3.2 1.3 0.2; 4.6 3.1 1.5 0.2; 5.0 3.6 1.4 0.2; 5.4 3.9 1.7 0.4; 4.6 3.4 1.4 0.3; 5.0 3.4 1.5 0.2; 4.4 2.9 1.4 0.2; 4.9 3.1 1.5 0.1; 5.4 3.7 1.5 0.2; 4.8 3.4 1.6 0.2; 4.8 3.0 1.4 0.1; 4.3 3.0 1.1 0.1; 5.8 4.0 1.2 0.2; 5.7 4.4 1.5 0.4; 5.4 3.9 1.3 0.4; 5.1 3.5 1.4 0.3; 5.7 3.8 1.7 0.3; 5.1 3.8 1.5 0.3; 5.4 3.4 1.7 0.2; 5.1 3.7 1.5 0.4; 4.6 3.6 1.0 0.2; 5.1 3.3 1.7 0.5; 4.8 3.4 1.9 0.2; 5.0 3.0 1.6 0.2; 5.0 3.4 1.6 0.4; 5.2 3.5 1.5 0.2; 5.2 3.4 1.4 0.2; 4.7 3.2 1.6 0.2; 4.8 3.1 1.6 0.2; 5.4 3.4 1.5 0.4; 5.2 4.1 1.5 0.1; 5.5 4.2 1.4 0.2; 4.9 3.1 1.5 0.1; 5.0 3.2 1.2 0.2; 5.5 3.5 1.3 0.2; 4.9 3.1 1.5 0.1; 4.4 3.0 1.3 0.2; 5.1 3.4 1.5 0.2; 5.0 3.5 1.3 0.3; 4.5 2.3 1.3 0.3; 4.4 3.2 1.3 0.2; 5.0 3.5 1.6 0.6; 5.1 3.8 1.9 0.4; 4.8 3.0 1.4 0.3; 5.1 3.8 1.6 0.2; 4.6 3.2 1.4 0.2; 5.3 3.7 1.5 0.2; 5.0 3.3 1.4 0.2; 7.0 3.2 4.7 1.4; 6.4 3.2 4.5 1.5; 6.9 3.1 4.9 1.5; 5.5 2.3 4.0 1.3; 6.5 2.8 4.6 1.5; 5.7 2.8 4.5 1.3; 6.3 3.3 4.7 1.6; 4.9 2.4 3.3 1.0; 6.6 2.9 4.6 1.3; 5.2 2.7 3.9 1.4; 5.0 2.0 3.5 1.0; 5.9 3.0 4.2 1.5; 6.0 2.2 4.0 1.0; 6.1 2.9 4.7 1.4; 5.6 2.9 3.6 1.3; 6.7 3.1 4.4 1.4; 5.6 3.0 4.5 1.5; 5.8 2.7 4.1 1.0; 6.2 2.2 4.5 1.5; 5.6 2.5 3.9 1.1; 5.9 3.2 4.8 1.8; 6.1 2.8 4.0 1.3; 6.3 2.5 4.9 1.5; 6.1 2.8 4.7 1.2; 6.4 2.9 4.3 1.3; 6.6 3.0 4.4 1.4; 6.8 2.8 4.8 1.4; 6.7 3.0 5.0 1.7; 6.0 2.9 4.5 1.5; 5.7 2.6 3.5 1.0; 5.5 2.4 3.8 1.1; 5.5 2.4 3.7 1.0; 5.8 2.7 3.9 1.2; 6.0 2.7 5.1 1.6; 5.4 3.0 4.5 1.5; 6.0 3.4 4.5 1.6; 6.7 3.1 4.7 1.5; 6.3 2.3 4.4 1.3; 5.6 3.0 4.1 1.3; 5.5 2.5 4.0 1.3; 5.5 2.6 4.4 1.2; 6.1 3.0 4.6 1.4; 5.8 2.6 4.0 1.2; 5.0 2.3 3.3 1.0; 5.6 2.7 4.2 1.3; 5.7 3.0 4.2 1.2; 5.7 2.9 4.2 1.3; 6.2 2.9 4.3 1.3; 5.1 2.5 3.0 1.1; 5.7 2.8 4.1 1.3; 6.3 3.3 6.0 2.5; 5.8 2.7 5.1 1.9; 7.1 3.0 5.9 2.1; 6.3 2.9 5.6 1.8; 6.5 3.0 5.8 2.2; 7.6 3.0 6.6 2.1; 4.9 2.5 4.5 1.7; 7.3 2.9 6.3 1.8; 6.7 2.5 5.8 1.8; 7.2 3.6 6.1 2.5; 6.5 3.2 5.1 2.0; 6.4 2.7 5.3 1.9; 6.8 3.0 5.5 2.1; 5.7 2.5 5.0 2.0; 5.8 2.8 5.1 2.4; 6.4 3.2 5.3 2.3; 6.5 3.0 5.5 1.8; 7.7 3.8 6.7 2.2; 7.7 2.6 6.9 2.3; 6.0 2.2 5.0 1.5; 6.9 3.2 5.7 2.3; 5.6 2.8 4.9 2.0; 7.7 2.8 6.7 2.0; 6.3 2.7 4.9 1.8; 6.7 3.3 5.7 2.1; 7.2 3.2 6.0 1.8; 6.2 2.8 4.8 1.8; 6.1 3.0 4.9 1.8; 6.4 2.8 5.6 2.1; 7.2 3.0 5.8 1.6; 7.4 2.8 6.1 1.9; 7.9 3.8 6.4 2.0; 6.4 2.8 5.6 2.2; 6.3 2.8 5.1 1.5; 6.1 2.6 5.6 1.4; 7.7 3.0 6.1 2.3; 6.3 3.4 5.6 2.4; 6.4 3.1 5.5 1.8; 6.0 3.0 4.8 1.8; 6.9 3.1 5.4 2.1; 6.7 3.1 5.6 2.4; 6.9 3.1 5.1 2.3; 5.8 2.7 5.1 1.9; 6.8 3.2 5.9 2.3; 6.7 3.3 5.7 2.5; 6.7 3.0 5.2 2.3; 6.3 2.5 5.0 1.9; 6.5 3.0 5.2 2.0; 6.2 3.4 5.4 2.3; 5.9 3.0 5.1 1.8]"
   ]
  },
  {
   "cell_type": "markdown",
   "metadata": {},
   "source": [
    "This data actually includes 3 different species of flower, and the goal is to figure out how to differentiate between the species based on the above data. If we number the species 0, 1, and 2 (Iris setosa, Iris virginica and Iris versicolor), then the following array contains the species of each row in $X$:"
   ]
  },
  {
   "cell_type": "code",
   "execution_count": null,
   "metadata": {
    "collapsed": true
   },
   "outputs": [],
   "source": [
    "species = [0,0,0,0,0,0,0,0,0,0,0,0,0,0,0,0,0,0,0,0,0,0,0,0,0,0,0,0,0,0,0,0,0,0,0,0,0,0,0,0,0,0,0,0,0,0,0,0,0,0,1,1,1,1,1,1,1,1,1,1,1,1,1,1,1,1,1,1,1,1,1,1,1,1,1,1,1,1,1,1,1,1,1,1,1,1,1,1,1,1,1,1,1,1,1,1,1,1,1,1,2,2,2,2,2,2,2,2,2,2,2,2,2,2,2,2,2,2,2,2,2,2,2,2,2,2,2,2,2,2,2,2,2,2,2,2,2,2,2,2,2,2,2,2,2,2,2,2,2,2]"
   ]
  },
  {
   "cell_type": "markdown",
   "metadata": {},
   "source": [
    "Before we do any data analysis, we should subtract the mean of all the samples (all the flowers), which can be done efficiently in Julia via the \"broadcasting\" `.-` operations combined with the function `mean(X,1)` that returns a row vector of the means of each column:"
   ]
  },
  {
   "cell_type": "code",
   "execution_count": null,
   "metadata": {
    "collapsed": true
   },
   "outputs": [],
   "source": [
    "A = X .- mean(X,1)"
   ]
  },
  {
   "cell_type": "markdown",
   "metadata": {},
   "source": [
    "Now, each flower could be viewed as a point in a four-dimensional space (i.e. the 4 measurements) called [feature space](https://en.wikipedia.org/wiki/Feature_vector). We'd like to find out what are the important directions in this 4d space in order to explain the variations among the individual flowers, and hopefully to identify the fact that there are three different species.\n",
    "\n",
    "If we just slice this 4d parameter space in a \"random\" direction, e.g. we plot the 2nd + 4th coordinates (2nd+4th columns of A) vs the 1st coordinate (1st column of A), we just see a blob of points. The different colors are the different species, and they are all mixed up together:"
   ]
  },
  {
   "cell_type": "code",
   "execution_count": null,
   "metadata": {
    "collapsed": true
   },
   "outputs": [],
   "source": [
    "using PyPlot\n",
    "scatter(A[:,1], A[:,2]+A[:,4], c=species, cmap=\"viridis\")\n",
    "xlabel(\"sepal length (cm)\")\n",
    "ylabel(\"petal width (cm)\")"
   ]
  },
  {
   "cell_type": "markdown",
   "metadata": {},
   "source": [
    "Now, let's perform some principal components analysis (PCA) to try to figure out the \"right\" way to look at this data.\n",
    "\n",
    "First, compute the SVD of this matrix $A$, which is equivalent to diagonalizing the covariance matrix $AA^T$ as discussed in class (and in the book):"
   ]
  },
  {
   "cell_type": "code",
   "execution_count": null,
   "metadata": {
    "collapsed": true
   },
   "outputs": [],
   "source": [
    "U, σ, V = svd(A)\n",
    "σ"
   ]
  },
  {
   "cell_type": "markdown",
   "metadata": {},
   "source": [
    "The singular values σ indicate how much of the variance is explained by each singular vector.\n",
    "\n",
    "Given this information, you should be able to pick out **two directions in 4d** (two directions in feature space, i.e. two combinations of measurements) that **explain most of the variation** in the data.\n",
    "\n",
    "Fix the code below to compute two 150-component vectors `x1` and `x2`, corresponding to these two combinations of measurements for each flower, and plot `x2` vs `x1`.\n",
    "\n",
    "You should see that the flowers separate into three groups corresponding to the three different species: PCA identifies the key measurements (or rather, the key combination of measurements) that explain the variations."
   ]
  },
  {
   "cell_type": "code",
   "execution_count": null,
   "metadata": {
    "collapsed": true
   },
   "outputs": [],
   "source": [
    "x1 = ???\n",
    "x2 = ???\n",
    "scatter(x1, x2, c=species, cmap=\"viridis\")\n",
    "title(\"data along two principal directions\")"
   ]
  },
  {
   "cell_type": "markdown",
   "metadata": {},
   "source": [
    "Print out this plot (or print to PDF or make a screenshot and attach it electronically on Stellar) and your `???` code with your solutions."
   ]
  },
  {
   "cell_type": "markdown",
   "metadata": {},
   "source": [
    "## Problem 2 (7+7+7 points)\n",
    "\n",
    "From the lecture 31 notes, recall that if $Ax_1 = \\lambda_1 x_1$ is the only linearly independent eigenvector for an eigenvalue of multiplicity 2 (a double root), then we can also find a Jordan vector with $Aj_1 = \\lambda_1 j_1 + x_1$, typically chosen $\\perp x_1$ ($j_1^H x_1 = 0$).   If $f(A)$ is some function of the matrix $A$, we also said that $f(A)x_1 = f(\\lambda_1)x_1$ while $f(A) j_1 = f(\\lambda_1) j_1 + f'(\\lambda_1) x_1$.\n",
    "\n",
    "**(a)** What is $y = A^{-1} j_1$, i.e. applying the rule for $f(A)=A^{-1}$, assuming $A$ is nonsingular?  Check that you get $Ay = j_1$ from the rules for multiplying by $A$.\n",
    "\n",
    "**(b)** If this defective $A$ is similar to a matrix $B = SAS^{-1}$, give an eigenvector and the corresponding Jordan vector for $B$.\n",
    "\n",
    "**(c)** For this defective $A$, suppose that you know that all the *other* eigenvalues $\\lambda_2,\\ldots$ are \"simple\" (i.e. multiplicity 1, i.e. single roots, i.e. $1\\times 1$ Jordan blocks, i.e. they just have ordinary eigenvectors).  Under what condition on the eigenvalues $\\lambda_1,\\lambda_2,\\ldots$ must $\\frac{dx}{dt}=Ax$ have solutions $x(t)$ that approach a nonzero constant vector for $t\\to\\infty$, for most $x(0)$?"
   ]
  },
  {
   "cell_type": "markdown",
   "metadata": {},
   "source": [
    "## Problem 3 (10+10+5 points)\n",
    "\n",
    "(Review the lecture 31 notes on $e^{At} x$ for defective matrices.)\n",
    "\n",
    "**(a)** In the lecture 24 notes, we solved a *Mass and spring with damping* problem with $$\\frac{dx}{dt} = \\underbrace{\\begin{pmatrix} 0 & 1 \\\\ -0.01 & -d \\end{pmatrix}}_B x$$  Check that for $d=0.2$ the matrix $B$ is defective (has only a single eigenvector) as was claimed in the lecture-24 notes, and find the corresponding Jordan vector (make it orthogonal to your eigenvector).\n",
    "\n",
    "**(b)** Solve for $x(t)$ when $x(0) = (0,1)$, by expanding $x(0)$ in the basis of an eigenvector and the corresponding Jordan vector and multiplying by $e^{At}$.\n",
    "\n",
    "**(c)** Check that your answer for $x(1)$ matches what Julia gives for `expm([0 1; -0.01 -0.2])*[0,1]`."
   ]
  },
  {
   "cell_type": "markdown",
   "metadata": {},
   "source": [
    "## Problem 4 (10+10+10 points)\n",
    "\n",
    "**(a)** If $A^TA v = \\lambda v$, multiply by $A$ and rearrange to show that **if v is an eigenvector of** $A^TA$ **then ........ is an eigenvector of** $AA^T$ **unless λ is ......**.\n",
    "\n",
    "**(b)** If $A$ is an m×n real matrix, $Q_m$ is any m×m real orthogonal matrix, and $Q_n$ is any n×n real orthogonal matrix, how do the singular vectors and values of $B = Q_m A Q_n^T$ relate to the singular vectors (columns of U and V) and values (σ) of $A=U\\Sigma V^T$?\n",
    "\n",
    "**(c)** The following code generates a random 5×5 orthogonal matrix Q and computes its singular values.  Explain the result."
   ]
  },
  {
   "cell_type": "code",
   "execution_count": null,
   "metadata": {
    "collapsed": true
   },
   "outputs": [],
   "source": [
    "S = randn(5,5); S = S - S' # a random anti-symmetric S\n",
    "Q = expm(S) # orthogonal\n",
    "svdvals(Q) # the singular values σ of Q"
   ]
  }
 ],
 "metadata": {
  "kernelspec": {
   "display_name": "Julia 0.6.0",
   "language": "julia",
   "name": "julia-0.6"
  },
  "language_info": {
   "file_extension": ".jl",
   "mimetype": "application/julia",
   "name": "julia",
   "version": "0.6.0"
  }
 },
 "nbformat": 4,
 "nbformat_minor": 2
}
