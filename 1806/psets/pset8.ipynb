{
 "cells": [
  {
   "cell_type": "markdown",
   "metadata": {},
   "source": [
    "# 18.06 pset 8 (due *Friday* November 3 at 11am)"
   ]
  },
  {
   "cell_type": "markdown",
   "metadata": {},
   "source": [
    "## Problem 1\n",
    "\n",
    "**(a)** The following Julia code constructs 20 random orthogonal matrices $Q$ (a square matrix with orthonormal columns) and prints their determinants.  Try running it a few times.  **Explain what you observe** using the properties of determinants:\n",
    "\n",
    "(Hint: $Q^T = Q^{-1}$.)."
   ]
  },
  {
   "cell_type": "code",
   "execution_count": null,
   "metadata": {},
   "outputs": [],
   "source": [
    "m = 5  # you can try changing this too if you want\n",
    "\n",
    "for i = 1:20\n",
    "    A = randn(m,m) # a random m×m matrix\n",
    "    Q, R = qr(A)   # QR factorizing A gives a random Q\n",
    "    Q = Q * diagm(rand([-1,+1],m)) # choose signs randomly too\n",
    "\n",
    "    println(round(det(Q), 13)) # print determinant, rounded to 13 digits\n",
    "end"
   ]
  },
  {
   "cell_type": "markdown",
   "metadata": {},
   "source": [
    "**(b)** The following code generates 20 random 5×5 \"anti-symmetric\" (or \"skew-symmetric\") matrices, and prints their determinants.  This is a square matrix $A$ with $A^T = -A$.  **Explain what you observe** using the properties of determinants.\n",
    "\n",
    "**(c)** What happens if you try the anti-symmetric experiment again, but change the size (`m`) to 6?  Why?"
   ]
  },
  {
   "cell_type": "code",
   "execution_count": null,
   "metadata": {},
   "outputs": [],
   "source": [
    "m = 5  # you can try changing this too if you want\n",
    "\n",
    "for i = 1:20\n",
    "    A = randn(m,m) # a random m×m matrix\n",
    "    A = A - A' # make it skew-symmetric by subtracting its transpose\n",
    "\n",
    "    println(round(det(A), 13)) # print determinant, rounded to 13 digits\n",
    "end"
   ]
  },
  {
   "cell_type": "markdown",
   "metadata": {},
   "source": [
    "## Problem 2\n",
    "\n",
    "**(a)** Find the eigenvalues and eigenvectors of\n",
    "$$\n",
    "A = \\begin{pmatrix} 1 & 4 \\\\ 2 & 3 \\end{pmatrix}, \\qquad A + 2I = \\begin{pmatrix} 3 & 4 \\\\ 2 & 5 \\end{pmatrix}\n",
    "$$\n",
    "\n",
    "**(b)** If $Ax=\\lambda x$, then what is $(A+\\alpha I)x$?   Therefore, how are the eigenvalues and eigenvectors of $A+\\alpha I$ related to those of $A$?   Is this consistent with your answer from (a)?"
   ]
  },
  {
   "cell_type": "markdown",
   "metadata": {},
   "source": [
    "## Problem 3\n",
    "\n",
    "(From Strang, section 6.1, problem 11.)\n",
    "\n",
    "Here is a strange fact about 2×2 matrices with eigenvalues $\\lambda_1 \\ne \\lambda_2$: the columns of $A - \\lambda_1 I$ are multiples of the eigenvector $x_2$.  *(You can see this if you look at the first 2×2 example from the [lecture-20 notebook](http://nbviewer.jupyter.org/github/stevengj/1806/blob/spring17/lectures/Eigenvalue-Polynomials.ipynb#Eigenvectors).)*   **Why?**\n",
    "\n",
    "(Hint: think about the column and null spaces of $A - \\lambda_1 I$.)"
   ]
  },
  {
   "cell_type": "markdown",
   "metadata": {},
   "source": [
    "## Problem 4\n",
    "\n",
    "In class, we saw that taking a random vector $x$ and repeatedly multiplying by $A$ (i.e. computing $A^n x$ for a large $n$) quickly gives something proportional to the *eigenvector with the largest |λ|*.  This happens for any $m\\times m$ matrix with $m$ eigenvalues of distinct magnitudes.\n",
    "\n",
    "**(a)** How could you modify this process to instead obtain the *eigenvector with the smallest |λ|*?\n",
    "\n",
    "You can assume that $A$ is nonsingular.  If $A$ is singular, why is there an easy way to find the eigenvector with the smallest |λ|?\n",
    "\n",
    "**(b)** The code below applies the repeated-multiplication process to the [2×2 example from lecture 20](http://nbviewer.jupyter.org/github/stevengj/1806/blob/spring17/lectures/Eigenvalue-Polynomials.ipynb#Eigenvalue-example:).   Run it to see it converging to the largest-|λ| eigenvector.  Then modify the code to your answer from (a) and run it again to verify that it converges to the smallest-|λ| eigenvector."
   ]
  },
  {
   "cell_type": "code",
   "execution_count": null,
   "metadata": {},
   "outputs": [],
   "source": [
    "A = [ 1 1 \n",
    "     -2 4]\n",
    "eigvals(A)"
   ]
  },
  {
   "cell_type": "code",
   "execution_count": null,
   "metadata": {},
   "outputs": [],
   "source": [
    "x = [-17, 6] # a random vector\n",
    "for i = 1:20\n",
    "    x = A*x\n",
    "    x = x / x[1] # normalize it to make x[1]=1, for comparison with lecture\n",
    "    println(x)\n",
    "end"
   ]
  },
  {
   "cell_type": "markdown",
   "metadata": {},
   "source": [
    "It converges to (1,2), the eigenvector for λ=3.  Your modified code should converge instead to (1,1), the eigenvector for λ=2."
   ]
  }
 ],
 "metadata": {
  "kernelspec": {
   "display_name": "Julia 0.6.0",
   "language": "julia",
   "name": "julia-0.6"
  },
  "language_info": {
   "file_extension": ".jl",
   "mimetype": "application/julia",
   "name": "julia",
   "version": "0.6.0"
  }
 },
 "nbformat": 4,
 "nbformat_minor": 2
}
