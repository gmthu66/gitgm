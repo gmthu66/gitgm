{
 "cells": [
  {
   "cell_type": "markdown",
   "metadata": {},
   "source": [
    "# 18.06 pset 4 (due Wed Oct 4)"
   ]
  },
  {
   "cell_type": "markdown",
   "metadata": {},
   "source": [
    "## Problem 1\n",
    "\n",
    "Suppose that you have the $PA=LU$ factorization of an invertible $m\\times m$ matrix $A$.   Explain how you can solve $A^T x = b$ in $\\sim m^2$ operations (i.e., without re-doing elimination on $A^T$).\n",
    "\n",
    "In Julia, the LU factorization is computed with `LU = lufact(A)`.  The transpose of a real matrix is `A'`.  You can solve $A^T x = b$ with either `A' \\ b` (which re-does elimination) or with `LU' \\ b` (which re-uses the factorization).  By trying this for a few sizes, check whether the times indeed scale roughly with $\\sim m^3$ or $\\sim m^2$ as expected:"
   ]
  },
  {
   "cell_type": "code",
   "execution_count": null,
   "metadata": {},
   "outputs": [],
   "source": [
    "BLAS.set_num_threads(1) # disable multi-threading for benchmarking\n",
    "for m in (2000, 4000) # try for a couple sizes\n",
    "    A = rand(m,m)\n",
    "    b = rand(m)\n",
    "    LU = lufact(A) # an object that stores the LU factorization of A efficiently\n",
    "    \n",
    "    # benchmark, taking the minimum of three times to reduce timing noise\n",
    "    t1 = min(@elapsed(A' \\ b), @elapsed(A' \\ b), @elapsed(A' \\ b))\n",
    "    t2 = min(@elapsed(LU' \\ b), @elapsed(LU' \\ b), @elapsed(LU' \\ b))\n",
    "    println(\"m = $m, time for A' \\\\ b = $t1 seconds, time for LU \\\\ b = $t2 seconds\")\n",
    "end"
   ]
  },
  {
   "cell_type": "markdown",
   "metadata": {},
   "source": [
    "## Problem 2\n",
    "\n",
    "(Based on Strang, section 4.1, problem 9.)\n",
    "\n",
    "The following is an important property of the very important matrix $A^T A$ (for real matrices) that will come up several times in 18.06:\n",
    "\n",
    "* If $A^TAx=0$ then $Ax=0$.  Reason: If $A^TAx=0$, then $Ax$ is in the nullspace of $A^T$ and also in the ?????? of $A$, and those spaces are ???????.  Conclusion: $N(A^T A) = N(A)$.\n",
    "\n",
    "* Alternative proof: $A^TAx=0$, then $x^T A^T Ax = 0 = (Ax)^T (Ax)$.  Why does this imply that $Ax=0$?   (Hint: if $y^Ty = 0$, can we have $y\\ne 0$?)\n",
    "\n",
    "* If $A$ is a random $m \\times n$ matrix, what can you conclude about the ranks of $A^T A$ and $A A^T$?   Try it in Julia for a $5 \\times 7$ random matrix:"
   ]
  },
  {
   "cell_type": "code",
   "execution_count": null,
   "metadata": {},
   "outputs": [],
   "source": [
    "A = randn(5,7)\n",
    "rank(A'*A)"
   ]
  },
  {
   "cell_type": "code",
   "execution_count": null,
   "metadata": {},
   "outputs": [],
   "source": [
    "rank(A*A')"
   ]
  },
  {
   "cell_type": "markdown",
   "metadata": {},
   "source": [
    "## Problem 3\n",
    "\n",
    "Suppose we *already know* the inverse $A^{-1}$ of an $m \\times m$ matrix $A$.   Now, we want to find the inverse $(A + uv^T)^{-1}$, where $u$ and $v$ are $m$-component column vectors.   Ideally, we'd like to do this without re-doing the whole matrix-inversion process!\n",
    "\n",
    "* Remark: $A + uv^T$ is called a \"rank-1 update\" of $A$ because you are adding the rank-1 matrix $uv^T$.\n",
    "\n",
    "Find the scalar $\\alpha$ such that:\n",
    "\n",
    "$$\n",
    "(A + uv^T)^{-1} = A^{-1} - \\frac{A^{-1} uv^T A^{-1}}{\\alpha}\n",
    "$$\n",
    "\n",
    "(Multiply the right-hand side by $A + uv^T$ and try to get $I$.)\n",
    "\n",
    "Check your answer for a random $4\\times 4$ matrix $A$ and random vectors $u$ and $v$, by replacing the `????` with your answer:"
   ]
  },
  {
   "cell_type": "code",
   "execution_count": null,
   "metadata": {},
   "outputs": [],
   "source": [
    "A = rand(4,4)\n",
    "u = rand(4)\n",
    "v = rand(4)\n",
    "\n",
    "A⁻¹ = inv(A)\n",
    "\n",
    "α = ????"
   ]
  },
  {
   "cell_type": "code",
   "execution_count": null,
   "metadata": {},
   "outputs": [],
   "source": [
    "# check that the difference is a matrix with tiny entries (just roundoff errors):\n",
    "inv(A + u*v') - (A⁻¹ - (A⁻¹*u)*(v'*A⁻¹)/α)"
   ]
  },
  {
   "cell_type": "markdown",
   "metadata": {},
   "source": [
    "## Problem 4\n",
    "\n",
    "(Based on Strang, section 2.7, problem 16.)\n",
    "\n",
    "A *symmetric* matrix $S$ is a matrix that equals its transpose: $S = S^T$.   Suppose that $A=A^T$ and $B=B^T$ are two symmetric matrices, and $C$ is some other matrix (possibly nonsymmetric), all of the same size $m\\times m$.  Which of the following are certainly symmetric?\n",
    "\n",
    "* $A^2 - B^2$\n",
    "* $(A+B)(A-B)$ (note that this does *not* generally equal $A^2 - B^2$ ... why?)\n",
    "* $C^T A C$\n",
    "* $A^T C A$\n",
    "* $ABA$\n",
    "* $C + C^T$\n",
    "* $C - C^T$\n",
    "* $ABAB$\n",
    "\n",
    "You can try these with some random matrices to check your answers, but your solutions should explain your answers with equations."
   ]
  },
  {
   "cell_type": "code",
   "execution_count": null,
   "metadata": {},
   "outputs": [],
   "source": [
    "A = rand(-5:5, 4,4); A = A + A'  # random\n",
    "B = rand(-5:5, 4,4); B = B + B'  #   symmetric 4×4 matrices\n",
    "C = rand(-5:5, 4,4)  # random (probably) non-symmetric 4×4 matrix\n",
    "\n",
    "A^2 - B^2"
   ]
  },
  {
   "cell_type": "markdown",
   "metadata": {},
   "source": [
    "## Problem 5\n",
    "\n",
    "(From Strang, section 3.5, problem 3.)\n",
    "\n",
    "Find a basis for each of the four subspaces associated with $A$, given its upper-triangular form:\n",
    "\n",
    "$$\n",
    "A = \\begin{pmatrix} 0 & 1 & 2 & 3 & 4 \\\\ 0 & 1 & 2 & 4 & 6 \\\\ 0 & 0 & 0 & 1 & 2 \\end{pmatrix} =\n",
    "\\begin{pmatrix} 1 & 0 & 0 \\\\ 1 & 1 & 0 \\\\ 0 & 1 & 1 \\end{pmatrix}\n",
    "\\begin{pmatrix} 0 & 1 & 2 & 3 & 4 \\\\ 0 & 0 & 0 & 1 & 2 \\\\ 0 & 0 & 0 & 0 & 0 \\end{pmatrix}\n",
    "$$"
   ]
  },
  {
   "cell_type": "markdown",
   "metadata": {},
   "source": [
    "# Problem 6\n",
    "\n",
    "(From Strang, section 3.5, problem 4)\n",
    "\n",
    "Construct matrices with each of the following properties, or explain why it is impossible:\n",
    "\n",
    "* Column space contains $\\begin{pmatrix} 1\\\\1\\\\0 \\end{pmatrix}$, $\\begin{pmatrix} 0\\\\0\\\\1 \\end{pmatrix}$, and row space contains $\\begin{pmatrix} 1\\\\2 \\end{pmatrix}$, $\\begin{pmatrix} 2 \\\\5 \\end{pmatrix}$\n",
    "\n",
    "* Column space has basis $\\begin{pmatrix} 1\\\\1\\\\3 \\end{pmatrix}$, nullspace has basis $\\begin{pmatrix} 3\\\\1\\\\1 \\end{pmatrix}$\n",
    "\n",
    "* Dimension of nullspace = 1 + dimension of left nullspace\n",
    "\n",
    "* Nullspace contains $\\begin{pmatrix} 1\\\\3 \\end{pmatrix}$, column space contains $\\begin{pmatrix} 3\\\\1 \\end{pmatrix}$\n",
    "\n",
    "* Row space = column space, nullspace ≠ left nullspace."
   ]
  },
  {
   "cell_type": "markdown",
   "metadata": {},
   "source": [
    "## Problem 7\n",
    "\n",
    "(From Strang, section 4.1, problems 14–15.)\n",
    "\n",
    "* For $A = \\begin{pmatrix}1 & 2\\\\1 & 3 \\\\ 1& 2\\end{pmatrix}$ and $B = \\begin{pmatrix}5 & 4 \\\\ 6 & 3 \\\\ 5 & 1 \\end{pmatrix}$, the column spaces $C(A)$ and $C(B)$ are planes in $\\mathbb{R}^3$.  Two planes cannot be orthogonal because their intersection always includes a common line.   Find a (nonzero) vector in both $C(A)$ and $C(B)$ by considering the ________ space of the matrix $\\begin{pmatrix} A & B \\end{pmatrix}$.\n",
    "\n",
    "* Extend this tor a $p$-dimensional subspace $V$ and a $q$-dimensional subspace $p$ of $\\mathbb{R}^n$.  What inequality on $p+q$ guarantees that $V$ intersects $W$ in a nonzero vector (and hence $V$ and $W$ cannot be orthogonal)."
   ]
  }
 ],
 "metadata": {
  "kernelspec": {
   "display_name": "Julia 0.6.0",
   "language": "julia",
   "name": "julia-0.6"
  },
  "language_info": {
   "file_extension": ".jl",
   "mimetype": "application/julia",
   "name": "julia",
   "version": "0.6.0"
  }
 },
 "nbformat": 4,
 "nbformat_minor": 2
}
