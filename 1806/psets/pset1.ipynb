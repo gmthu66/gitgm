{
 "cells": [
  {
   "cell_type": "markdown",
   "metadata": {},
   "source": [
    "# 18.06 pset 1\n",
    "## (due Wednesday 9/13 at 11am)\n",
    "\n",
    "This problem set is in the form of a [Julia](http://julialang.org/) *notebook* (using the [Jupyter](http://jupyter.org/)/[IJulia](https://github.com/JuliaLang/IJulia.jl) browser-based interface to interactive programming).  We will be using the Julia language throughout the term for simple computational explorations — practical linear algebra is not about hand computations!\n",
    "\n",
    "You can run this without installing anything by logging in at [JuliaBox](https://juliabox.com/).  Just download the notebook file (a `.ipynb` file) by clicking the download icon at the upper right, then drag it onto the JuliaBox dashboard to upload it there.\n",
    "\n",
    "Some of the problems are pencil-and-paper (we just happen to use the notebook to describe them), and some of them require you to run the code in the notebook to see what happens and then explain it.  To **run the code** in an input cell, **just click on the cell and then type shift-return**; see also the \"Help\" menu in the notebook.  When you submit your pset, just turn in a description and explanation of your results (no need to turn in a printout of the notebook).\n",
    "\n",
    "(In future problem sets where I ask you to plot something, you will need to either print out the plot or submit it as an electronic attachment on Stellar.)"
   ]
  },
  {
   "cell_type": "markdown",
   "metadata": {},
   "source": [
    "## Problem 1 (10 points)\n",
    "\n",
    "In linear algebra, it is critically important to think about the *shape* (size) of matrices and vectors, and whether operations make sense.   You can multiply $AB$ if $A$ is $m \\times n$ ($m$ rows and $n$ columns) and $B$ is $n \\times p$ — the \"middle\" dimensions need to match up.  You can also add matrices of *equal* sizes, or multiply them by scalars.  Multiplying $Ax$, an $m \\times n$ matrix $A$ by an $n$-component vector, can be thought of as a special case of this rule if you think of $x$ as an $n \\times 1$ \"matrix\".  On exams, it is common for people to panic and start writing down nonsense, and an easy way to catch this is to make sure that the operations you are writing down have the correct shapes.\n",
    "\n",
    "Suppose $A$ is a $5\\times 3$ matrix, $B$ is a  $3 \\times 4$ matrix, $x$ is a $3 \\times 1$ matrix (a 3-component column vector), $r$ is a $1 \\times 5$ matrix (a 5-component \"row vector\"), and $s$ is a $1 \\times 3$ matrix (a 3-component row vector).  Give the shape ($m \\times n$) of the result of each of the following operations, or say that the operation makes no sense:\n",
    "\n",
    "1. $AB$\n",
    "2. $BA$\n",
    "3. $xs$\n",
    "4. $sx$\n",
    "5. $rs$\n",
    "6. $A + B$\n",
    "7. $2A + xr$\n",
    "8. $rAx$\n",
    "9. $xAr$\n",
    "10. $A^3$\n",
    "\n",
    "As a check, you should also try out your answers in Julia with some random matrices and vectors of these sizes:"
   ]
  },
  {
   "cell_type": "code",
   "execution_count": null,
   "metadata": {
    "collapsed": true
   },
   "outputs": [],
   "source": [
    "# matrices/vectors of the sizes given above, containing small random integers:\n",
    "A = rand(-9:9, 5,3)\n",
    "B = rand(-9:9, 3,4)\n",
    "x = rand(-9:9, 3,1)\n",
    "r = rand(-9:9, 1,5)\n",
    "s = rand(-9:9, 1,3);"
   ]
  },
  {
   "cell_type": "code",
   "execution_count": null,
   "metadata": {
    "collapsed": true
   },
   "outputs": [],
   "source": [
    "# a sample operation: replace this with A*B etcetera to check your answers above.\n",
    "(x*s)^3"
   ]
  },
  {
   "cell_type": "markdown",
   "metadata": {},
   "source": [
    "## Problem 2 (10 points)\n",
    "\n",
    "The following code multiplies two random *upper-triangular matrices* (matrices whose entries are *zero below the diagonal*).\n",
    "\n",
    "* What do you observe about the result?\n",
    "* Explain why this always happens when one multiplies upper-triangular matrices (of any size)."
   ]
  },
  {
   "cell_type": "code",
   "execution_count": null,
   "metadata": {
    "collapsed": true
   },
   "outputs": [],
   "source": [
    "U₁ = Matrix(UpperTriangular(rand(-9:9, 5,5)))"
   ]
  },
  {
   "cell_type": "code",
   "execution_count": null,
   "metadata": {
    "collapsed": true
   },
   "outputs": [],
   "source": [
    "U₂ = Matrix(UpperTriangular(rand(-9:9, 5,5)))"
   ]
  },
  {
   "cell_type": "code",
   "execution_count": null,
   "metadata": {
    "collapsed": true
   },
   "outputs": [],
   "source": [
    "U₁ * U₂"
   ]
  },
  {
   "cell_type": "markdown",
   "metadata": {},
   "source": [
    "## Problem 3 (10 points)\n",
    "\n",
    "(From Strang, section 2.2, problem 11.)\n",
    "\n",
    "A system of linear equations $Ax=b$ *cannot* have exactly *two* solutions.  An easy way to see why: if two vectors $x$ and $y \\ne x$ are two solutions (i.e. $Ax=b$ and $Ay=b$), what is another solution?  (Hint: $x+y$ is *almost* right.)"
   ]
  },
  {
   "cell_type": "markdown",
   "metadata": {},
   "source": [
    "## Problem 4 (10 points)\n",
    "\n",
    "(From Strang, section 2.2, problem 14.) Consider Gaussian elimination on the following system of equations:\n",
    "\n",
    "$$\n",
    "2x + 5y + z = 0 \\\\\n",
    "4x + dy + z = 2 \\\\\n",
    "y - z = 3\n",
    "$$\n",
    "\n",
    "(Write your solution in matrix form.)\n",
    "\n",
    "* What number $d$ forces you to do a row exchange during elimination, and what (non-singular) triangular system do you obtain for that $d$?\n",
    "* What value of $d$ would make this system singular (no third pivot, i.e. no way to get a triangular system with 3 nonzero values on the diagonal)?"
   ]
  },
  {
   "cell_type": "markdown",
   "metadata": {},
   "source": [
    "## Problem 5 (10 points)\n",
    "\n",
    "Give an exact count of the number of scalar additions and multiplications required to multiply $AB$ where $A$ and $B$ are two $m \\times m$ matrices, and compare to the count for $A + B$.  If you compute $AB + A + B$, which operation(s) will take most of the time for large $m$?  (You can assume additions and multiplications take the same amount of time, which is approximately true.)\n",
    "\n",
    "Determining performance on real computers is often quite a bit more complicated than just counting arithmetic operations, but it is still interesting to do some real timing.  The following code benchmarks $1000 \\times 1000$ and $2000 \\times 2000$ matrix multiplications (repeating each timing measurement 3 times to reduce noise — just look at the *smallest* time).  How does the ratio of the two times compare to your prediction about the operation counts?"
   ]
  },
  {
   "cell_type": "code",
   "execution_count": null,
   "metadata": {
    "collapsed": true
   },
   "outputs": [],
   "source": [
    "m = 1000\n",
    "A = rand(m,m)\n",
    "B = rand(m,m)\n",
    "\n",
    "BLAS.set_num_threads(1) # only use a single processor — multiprocessing makes things much weirder\n",
    "@time A*B; @time A*B; @time A*B;"
   ]
  },
  {
   "cell_type": "code",
   "execution_count": null,
   "metadata": {
    "collapsed": true
   },
   "outputs": [],
   "source": [
    "m = 2000\n",
    "A = rand(m,m)\n",
    "B = rand(m,m)\n",
    "\n",
    "BLAS.set_num_threads(1) # only use a single processor — multiprocessing makes things much weirder\n",
    "@time A*B; @time A*B; @time A*B;"
   ]
  },
  {
   "cell_type": "markdown",
   "metadata": {},
   "source": [
    "## Problem 6 (15 points)\n",
    "\n",
    "Consider the matrix:\n",
    "\n",
    "$$ A = \\begin{pmatrix} 1 & 1 & 1 \\\\ 0 & 4 & 0 \\\\ 2 & 4 & 5 \\end{pmatrix} $$\n",
    "\n",
    "* What matrix $E$ puts $A$ into upper-triangular form $EA = U$?  (Remember: this is the product of the matrices from the individual elimination steps.)\n",
    "\n",
    "* What matrix $F$ can you multiply by $A$ to put $A$ into *lower* triangular form $FA = L$?  (Hint: do Gaussian elimination \"upside down\", i.e. from the bottom up.)"
   ]
  }
 ],
 "metadata": {
  "anaconda-cloud": {},
  "kernelspec": {
   "display_name": "Julia 0.6.0",
   "language": "julia",
   "name": "julia-0.6"
  },
  "language_info": {
   "file_extension": ".jl",
   "mimetype": "application/julia",
   "name": "julia",
   "version": "0.6.0"
  }
 },
 "nbformat": 4,
 "nbformat_minor": 1
}
