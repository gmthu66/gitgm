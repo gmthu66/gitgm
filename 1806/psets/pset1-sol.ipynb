{
 "cells": [
  {
   "cell_type": "markdown",
   "metadata": {},
   "source": [
    "# 18.06 pset 1 solutions"
   ]
  },
  {
   "cell_type": "markdown",
   "metadata": {},
   "source": [
    "## Problem 1 (10 points)\n",
    "\n",
    "In linear algebra, it is critically important to think about the *shape* (size) of matrices and vectors, and whether operations make sense.   You can multiply $AB$ if $A$ is $m \\times n$ ($m$ rows and $n$ columns) and $B$ is $n \\times p$ — the \"middle\" dimensions need to match up.  You can also add matrices of *equal* sizes, or multiply them by scalars.  Multiplying $Ax$, an $m \\times n$ matrix $A$ by an $n$-component vector, can be thought of as a special case of this rule if you think of $x$ as an $n \\times 1$ \"matrix\".  On exams, it is common for people to panic and start writing down nonsense, and an easy way to catch this is to make sure that the operations you are writing down have the correct shapes.\n",
    "\n",
    "Suppose $A$ is a $5\\times 3$ matrix, $B$ is a  $3 \\times 4$ matrix, $x$ is a $3 \\times 1$ matrix (a 3-component column vector), $r$ is a $1 \\times 5$ matrix (a 5-component \"row vector\"), and $s$ is a $1 \\times 3$ matrix (a 3-component row vector).  Give the shape ($m \\times n$) of the result of each of the following operations, or say that the operation makes no sense:\n",
    "\n",
    "1. $AB$\n",
    "2. $BA$\n",
    "3. $xs$\n",
    "4. $sx$\n",
    "5. $rs$\n",
    "6. $A + B$\n",
    "7. $2A + xr$\n",
    "8. $rAx$\n",
    "9. $xAr$\n",
    "10. $A^3$\n",
    "\n",
    "As a check, you should also try out your answers in Julia with some random matrices and vectors of these sizes:"
   ]
  },
  {
   "cell_type": "code",
   "execution_count": 1,
   "metadata": {
    "collapsed": true
   },
   "outputs": [],
   "source": [
    "# matrices/vectors of the sizes given above, containing small random integers:\n",
    "A = rand(-9:9, 5,3)\n",
    "B = rand(-9:9, 3,4)\n",
    "x = rand(-9:9, 3,1)\n",
    "r = rand(-9:9, 1,5)\n",
    "s = rand(-9:9, 1,3);"
   ]
  },
  {
   "cell_type": "code",
   "execution_count": 2,
   "metadata": {},
   "outputs": [
    {
     "data": {
      "text/plain": [
       "3×3 Array{Int64,2}:\n",
       "  1296    648   1296\n",
       " -1296   -648  -1296\n",
       " -6480  -3240  -6480"
      ]
     },
     "execution_count": 2,
     "metadata": {},
     "output_type": "execute_result"
    }
   ],
   "source": [
    "# a sample operation: replace this with A*B etcetera to check your answers above.\n",
    "(x*s)^3"
   ]
  },
  {
   "cell_type": "markdown",
   "metadata": {},
   "source": [
    "### Solution \n",
    "\n",
    "1. $AB$ is $5 \\times 3$ * $3 \\times 4$, which makes sense because the middle dimensions (3) match, giving a $5 \\times 4$ matrix.\n",
    "2. $BA$ is $3 \\times 4$ * $5 \\times 3$ and doesn't make sense because the middle dimensions (4 and 5) don't match.\n",
    "3. $xs$ is $3 \\times 1$ * $1 \\times 3$, which makes sense because the middle dimensions (3) match, giving a $3 \\times 3$ matrix.\n",
    "4. $sx$ is $1 \\times 3$ * $3 \\times 1$, which makes sense because the middle dimensions (1) match, giving a $1 \\times 1$ matrix.\n",
    "5. $rs$ is $1 \\times 5$ * $1 \\times 3$, and doesn't make sense because the middle dimensions (5 and 1) don't match.\n",
    "6. $A + B$ is $5 \\times 3$ + $3 \\times 4$, and doesn't make sense because the matrices have different sizes (for addition they need to match *exactly*).\n",
    "7. $2A + xr$ doesn't make sense.  The multiplications are ok (they are: 2($5 \\times 3$) is $5 \\times 3$ and $3 \\times 1$ * $1 \\times 5$ is $3 \\times 5$, but then we can't add the resulting $5 \\times 3$ and $3 \\times 5$ matrices.\n",
    "8. $rAx$ is $1 \\times 5$ * $5 \\times 3$ * $3 \\times 1$ and makes sense because the dimensions (5 for the first product and 3 for the second) match. The result is $1 \\times 1$.\n",
    "9. $xAr$ is $3 \\times 1$ * $5 \\times 3$ * $1 \\times 5$ and doesn't make sense because neither of the dimensions match (1 vs 5 for the first product, and 3 vs 1 for the second).\n",
    "10. $A^3$ doesn't make sense.  It means $A*A*A$ and is a $3 \\times 5$ * $3 \\times 5$ * $3 \\times 5$ product.  Neither the first or second products make sense because the dimensions don't match (5 vs 3 for the first and again 5 vs 3 for the second).\n",
    "\n",
    "Here are the results of these operations in Julia for some random matrices of the specified sizes:"
   ]
  },
  {
   "cell_type": "code",
   "execution_count": 3,
   "metadata": {},
   "outputs": [
    {
     "data": {
      "text/plain": [
       "5×4 Array{Int64,2}:\n",
       " -82  -20  -140    5\n",
       "  81    3   125    3\n",
       " -27   36   -27   12\n",
       "  36   54    98  -25\n",
       " -25    1   -11  -56"
      ]
     },
     "execution_count": 3,
     "metadata": {},
     "output_type": "execute_result"
    }
   ],
   "source": [
    "A*B"
   ]
  },
  {
   "cell_type": "code",
   "execution_count": 4,
   "metadata": {},
   "outputs": [
    {
     "ename": "LoadError",
     "evalue": "\u001b[91mDimensionMismatch(\"matrix A has dimensions (3,4), matrix B has dimensions (5,3)\")\u001b[39m",
     "output_type": "error",
     "traceback": [
      "\u001b[91mDimensionMismatch(\"matrix A has dimensions (3,4), matrix B has dimensions (5,3)\")\u001b[39m",
      "",
      "Stacktrace:",
      " [1] \u001b[1m_generic_matmatmul!\u001b[22m\u001b[22m\u001b[1m(\u001b[22m\u001b[22m::Array{Int64,2}, ::Char, ::Char, ::Array{Int64,2}, ::Array{Int64,2}\u001b[1m)\u001b[22m\u001b[22m at \u001b[1m./linalg/matmul.jl:492\u001b[22m\u001b[22m",
      " [2] \u001b[1mgeneric_matmatmul!\u001b[22m\u001b[22m\u001b[1m(\u001b[22m\u001b[22m::Array{Int64,2}, ::Char, ::Char, ::Array{Int64,2}, ::Array{Int64,2}\u001b[1m)\u001b[22m\u001b[22m at \u001b[1m./linalg/matmul.jl:483\u001b[22m\u001b[22m",
      " [3] \u001b[1m*\u001b[22m\u001b[22m\u001b[1m(\u001b[22m\u001b[22m::Array{Int64,2}, ::Array{Int64,2}\u001b[1m)\u001b[22m\u001b[22m at \u001b[1m./linalg/matmul.jl:146\u001b[22m\u001b[22m",
      " [4] \u001b[1minclude_string\u001b[22m\u001b[22m\u001b[1m(\u001b[22m\u001b[22m::String, ::String\u001b[1m)\u001b[22m\u001b[22m at \u001b[1m./loading.jl:515\u001b[22m\u001b[22m"
     ]
    }
   ],
   "source": [
    "B*A"
   ]
  },
  {
   "cell_type": "code",
   "execution_count": 5,
   "metadata": {},
   "outputs": [
    {
     "data": {
      "text/plain": [
       "3×3 Array{Int64,2}:\n",
       "   4    2    4\n",
       "  -4   -2   -4\n",
       " -20  -10  -20"
      ]
     },
     "execution_count": 5,
     "metadata": {},
     "output_type": "execute_result"
    }
   ],
   "source": [
    "x*s"
   ]
  },
  {
   "cell_type": "code",
   "execution_count": 6,
   "metadata": {},
   "outputs": [
    {
     "data": {
      "text/plain": [
       "1×1 Array{Int64,2}:\n",
       " -18"
      ]
     },
     "execution_count": 6,
     "metadata": {},
     "output_type": "execute_result"
    }
   ],
   "source": [
    "s*x"
   ]
  },
  {
   "cell_type": "code",
   "execution_count": 7,
   "metadata": {},
   "outputs": [
    {
     "ename": "LoadError",
     "evalue": "\u001b[91mDimensionMismatch(\"matrix A has dimensions (1,5), matrix B has dimensions (1,3)\")\u001b[39m",
     "output_type": "error",
     "traceback": [
      "\u001b[91mDimensionMismatch(\"matrix A has dimensions (1,5), matrix B has dimensions (1,3)\")\u001b[39m",
      "",
      "Stacktrace:",
      " [1] \u001b[1m_generic_matmatmul!\u001b[22m\u001b[22m\u001b[1m(\u001b[22m\u001b[22m::Array{Int64,2}, ::Char, ::Char, ::Array{Int64,2}, ::Array{Int64,2}\u001b[1m)\u001b[22m\u001b[22m at \u001b[1m./linalg/matmul.jl:492\u001b[22m\u001b[22m",
      " [2] \u001b[1mgeneric_matmatmul!\u001b[22m\u001b[22m\u001b[1m(\u001b[22m\u001b[22m::Array{Int64,2}, ::Char, ::Char, ::Array{Int64,2}, ::Array{Int64,2}\u001b[1m)\u001b[22m\u001b[22m at \u001b[1m./linalg/matmul.jl:483\u001b[22m\u001b[22m",
      " [3] \u001b[1m*\u001b[22m\u001b[22m\u001b[1m(\u001b[22m\u001b[22m::Array{Int64,2}, ::Array{Int64,2}\u001b[1m)\u001b[22m\u001b[22m at \u001b[1m./linalg/matmul.jl:146\u001b[22m\u001b[22m",
      " [4] \u001b[1minclude_string\u001b[22m\u001b[22m\u001b[1m(\u001b[22m\u001b[22m::String, ::String\u001b[1m)\u001b[22m\u001b[22m at \u001b[1m./loading.jl:515\u001b[22m\u001b[22m"
     ]
    }
   ],
   "source": [
    "r*s"
   ]
  },
  {
   "cell_type": "code",
   "execution_count": 8,
   "metadata": {},
   "outputs": [
    {
     "ename": "LoadError",
     "evalue": "\u001b[91mDimensionMismatch(\"dimensions must match\")\u001b[39m",
     "output_type": "error",
     "traceback": [
      "\u001b[91mDimensionMismatch(\"dimensions must match\")\u001b[39m",
      "",
      "Stacktrace:",
      " [1] \u001b[1mpromote_shape\u001b[22m\u001b[22m\u001b[1m(\u001b[22m\u001b[22m::Tuple{Base.OneTo{Int64},Base.OneTo{Int64}}, ::Tuple{Base.OneTo{Int64},Base.OneTo{Int64}}\u001b[1m)\u001b[22m\u001b[22m at \u001b[1m./indices.jl:79\u001b[22m\u001b[22m",
      " [2] \u001b[1m+\u001b[22m\u001b[22m\u001b[1m(\u001b[22m\u001b[22m::Array{Int64,2}, ::Array{Int64,2}\u001b[1m)\u001b[22m\u001b[22m at \u001b[1m./arraymath.jl:37\u001b[22m\u001b[22m",
      " [3] \u001b[1minclude_string\u001b[22m\u001b[22m\u001b[1m(\u001b[22m\u001b[22m::String, ::String\u001b[1m)\u001b[22m\u001b[22m at \u001b[1m./loading.jl:515\u001b[22m\u001b[22m"
     ]
    }
   ],
   "source": [
    "A+B"
   ]
  },
  {
   "cell_type": "code",
   "execution_count": 9,
   "metadata": {},
   "outputs": [
    {
     "ename": "LoadError",
     "evalue": "\u001b[91mDimensionMismatch(\"dimensions must match\")\u001b[39m",
     "output_type": "error",
     "traceback": [
      "\u001b[91mDimensionMismatch(\"dimensions must match\")\u001b[39m",
      "",
      "Stacktrace:",
      " [1] \u001b[1mpromote_shape\u001b[22m\u001b[22m\u001b[1m(\u001b[22m\u001b[22m::Tuple{Base.OneTo{Int64},Base.OneTo{Int64}}, ::Tuple{Base.OneTo{Int64},Base.OneTo{Int64}}\u001b[1m)\u001b[22m\u001b[22m at \u001b[1m./indices.jl:79\u001b[22m\u001b[22m",
      " [2] \u001b[1m+\u001b[22m\u001b[22m\u001b[1m(\u001b[22m\u001b[22m::Array{Int64,2}, ::Array{Int64,2}\u001b[1m)\u001b[22m\u001b[22m at \u001b[1m./arraymath.jl:37\u001b[22m\u001b[22m",
      " [3] \u001b[1minclude_string\u001b[22m\u001b[22m\u001b[1m(\u001b[22m\u001b[22m::String, ::String\u001b[1m)\u001b[22m\u001b[22m at \u001b[1m./loading.jl:515\u001b[22m\u001b[22m"
     ]
    }
   ],
   "source": [
    "2A + x*r"
   ]
  },
  {
   "cell_type": "code",
   "execution_count": 10,
   "metadata": {},
   "outputs": [
    {
     "data": {
      "text/plain": [
       "1×1 Array{Int64,2}:\n",
       " -141"
      ]
     },
     "execution_count": 10,
     "metadata": {},
     "output_type": "execute_result"
    }
   ],
   "source": [
    "r*A*x"
   ]
  },
  {
   "cell_type": "code",
   "execution_count": 11,
   "metadata": {},
   "outputs": [
    {
     "ename": "LoadError",
     "evalue": "\u001b[91mDimensionMismatch(\"matrix A has dimensions (3,1), matrix B has dimensions (5,3)\")\u001b[39m",
     "output_type": "error",
     "traceback": [
      "\u001b[91mDimensionMismatch(\"matrix A has dimensions (3,1), matrix B has dimensions (5,3)\")\u001b[39m",
      "",
      "Stacktrace:",
      " [1] \u001b[1m_generic_matmatmul!\u001b[22m\u001b[22m\u001b[1m(\u001b[22m\u001b[22m::Array{Int64,2}, ::Char, ::Char, ::Array{Int64,2}, ::Array{Int64,2}\u001b[1m)\u001b[22m\u001b[22m at \u001b[1m./linalg/matmul.jl:492\u001b[22m\u001b[22m",
      " [2] \u001b[1mgeneric_matmatmul!\u001b[22m\u001b[22m\u001b[1m(\u001b[22m\u001b[22m::Array{Int64,2}, ::Char, ::Char, ::Array{Int64,2}, ::Array{Int64,2}\u001b[1m)\u001b[22m\u001b[22m at \u001b[1m./linalg/matmul.jl:483\u001b[22m\u001b[22m",
      " [3] \u001b[1m*\u001b[22m\u001b[22m\u001b[1m(\u001b[22m\u001b[22m::Array{Int64,2}, ::Array{Int64,2}, ::Array{Int64,2}\u001b[1m)\u001b[22m\u001b[22m at \u001b[1m./operators.jl:424\u001b[22m\u001b[22m",
      " [4] \u001b[1minclude_string\u001b[22m\u001b[22m\u001b[1m(\u001b[22m\u001b[22m::String, ::String\u001b[1m)\u001b[22m\u001b[22m at \u001b[1m./loading.jl:515\u001b[22m\u001b[22m"
     ]
    }
   ],
   "source": [
    "x*A*r"
   ]
  },
  {
   "cell_type": "code",
   "execution_count": 12,
   "metadata": {},
   "outputs": [
    {
     "ename": "LoadError",
     "evalue": "\u001b[91mDimensionMismatch(\"matrix A has dimensions (5,3), matrix B has dimensions (5,3)\")\u001b[39m",
     "output_type": "error",
     "traceback": [
      "\u001b[91mDimensionMismatch(\"matrix A has dimensions (5,3), matrix B has dimensions (5,3)\")\u001b[39m",
      "",
      "Stacktrace:",
      " [1] \u001b[1m_generic_matmatmul!\u001b[22m\u001b[22m\u001b[1m(\u001b[22m\u001b[22m::Array{Int64,2}, ::Char, ::Char, ::Array{Int64,2}, ::Array{Int64,2}\u001b[1m)\u001b[22m\u001b[22m at \u001b[1m./linalg/matmul.jl:492\u001b[22m\u001b[22m",
      " [2] \u001b[1mgeneric_matmatmul!\u001b[22m\u001b[22m\u001b[1m(\u001b[22m\u001b[22m::Array{Int64,2}, ::Char, ::Char, ::Array{Int64,2}, ::Array{Int64,2}\u001b[1m)\u001b[22m\u001b[22m at \u001b[1m./linalg/matmul.jl:483\u001b[22m\u001b[22m",
      " [3] \u001b[1mpower_by_squaring\u001b[22m\u001b[22m\u001b[1m(\u001b[22m\u001b[22m::Array{Int64,2}, ::Int64\u001b[1m)\u001b[22m\u001b[22m at \u001b[1m./intfuncs.jl:182\u001b[22m\u001b[22m",
      " [4] \u001b[1m^\u001b[22m\u001b[22m at \u001b[1m./linalg/dense.jl:332\u001b[22m\u001b[22m [inlined]",
      " [5] \u001b[1mliteral_pow\u001b[22m\u001b[22m\u001b[1m(\u001b[22m\u001b[22m::Base.#^, ::Array{Int64,2}, ::Type{Val{3}}\u001b[1m)\u001b[22m\u001b[22m at \u001b[1m./intfuncs.jl:205\u001b[22m\u001b[22m",
      " [6] \u001b[1minclude_string\u001b[22m\u001b[22m\u001b[1m(\u001b[22m\u001b[22m::String, ::String\u001b[1m)\u001b[22m\u001b[22m at \u001b[1m./loading.jl:515\u001b[22m\u001b[22m"
     ]
    }
   ],
   "source": [
    "A^3"
   ]
  },
  {
   "cell_type": "markdown",
   "metadata": {},
   "source": [
    "## Problem 2 (10 points)\n",
    "\n",
    "The following code multiplies two random *upper-triangular matrices* (matrices whose entries are *zero below the diagonal*).\n",
    "\n",
    "* What do you observe about the result?\n",
    "* Explain why this always happens when one multiplies upper-triangular matrices (of any size)."
   ]
  },
  {
   "cell_type": "code",
   "execution_count": 13,
   "metadata": {},
   "outputs": [
    {
     "data": {
      "text/plain": [
       "5×5 Array{Int64,2}:\n",
       " -3  -3   2  -9   0\n",
       "  0  -5  -6   6   3\n",
       "  0   0  -3   0  -4\n",
       "  0   0   0   7  -4\n",
       "  0   0   0   0   2"
      ]
     },
     "execution_count": 13,
     "metadata": {},
     "output_type": "execute_result"
    }
   ],
   "source": [
    "L₁ = Matrix(UpperTriangular(rand(-9:9, 5,5)))"
   ]
  },
  {
   "cell_type": "code",
   "execution_count": 14,
   "metadata": {},
   "outputs": [
    {
     "data": {
      "text/plain": [
       "5×5 Array{Int64,2}:\n",
       " -6  -3  -2  -5  3\n",
       "  0   9  -5  -7  0\n",
       "  0   0  -8   5  2\n",
       "  0   0   0  -5  9\n",
       "  0   0   0   0  0"
      ]
     },
     "execution_count": 14,
     "metadata": {},
     "output_type": "execute_result"
    }
   ],
   "source": [
    "L₂ = Matrix(UpperTriangular(rand(-9:9, 5,5)))"
   ]
  },
  {
   "cell_type": "code",
   "execution_count": 15,
   "metadata": {},
   "outputs": [
    {
     "data": {
      "text/plain": [
       "5×5 Array{Int64,2}:\n",
       " 18  -18   5   91  -86\n",
       "  0  -45  73  -25   42\n",
       "  0    0  24  -15   -6\n",
       "  0    0   0  -35   63\n",
       "  0    0   0    0    0"
      ]
     },
     "execution_count": 15,
     "metadata": {},
     "output_type": "execute_result"
    }
   ],
   "source": [
    "L₁ * L₂"
   ]
  },
  {
   "cell_type": "markdown",
   "metadata": {},
   "source": [
    "### Solution\n",
    "\n",
    "We observe that the result is again upper-triangular.  In fact, the product of any two square upper-triangular matrices of the same size is again upper-triangular.  This is true because the nonzero entries \"match up\" with zero entries when multiplying rows and columns to produce entries below the diagonal.  More precisely:\n",
    "\n",
    "Consider any upper-triangular $n \\times n$ matrices $A = (a_{ij})$ and $B = (b_{ij})$ (this notation means that the row-$i$, column-$j$ entry of $A$ is $a_{ij}$, and similarly for $B$). That they are upper-triangular means precisely that $a_{ij} = b_{ij} = 0$ whenever $1 \\leq j < i \\leq n$.  Now consider their product $AB = (c_{ij})$. To show that $AB$ is upper-triangular we just need to show that $c_{ij} = 0$ whenever $1 \\leq j < i \\leq n$.  So, suppose $i, j$ are such that $1 \\leq j < i \\leq n$.  By definition of matrix multiplication, $c_{ij} = \\sum_{k = 1}^n a_{ik}b_{kj}$. For any $k$ with $1 \\leq k \\leq n$, we then must either have $k < i$ or $k > j$.  But in the first case $a_{ik} = 0$ because $A$ is upper-triangular, and in the second case $b_{kj} = 0$ because $B$ is upper-triangular, so in either case $a_{ik}b_{kj} = 0$.  So the whole sum $c = \\sum_{k = 1}^n a_{ik}b_{kj} = 0$.  Therefore $c_{ij} = 0$ whenever $1 \\leq j < i \\leq n$, so $AB = (c_{ij})$ is upper-triangular.\n",
    "\n",
    "An clear but informal argument, e.g. with a diagram showing a row of $L_1$ times a column of $L_2$ and explaining why the result is zero above the diagonal, is also acceptable."
   ]
  },
  {
   "cell_type": "markdown",
   "metadata": {},
   "source": [
    "## Problem 3 (10 points)\n",
    "\n",
    "(From Strang, section 2.2, problem 11.)\n",
    "\n",
    "A system of linear equations $Ax=b$ *cannot* have exactly *two* solutions.  An easy way to see why: if two vectors $x$ and $y \\ne x$ are two solutions (i.e. $Ax=b$ and $Ay=b$), what is another solution?  (Hint: $x+y$ is *almost* right.)"
   ]
  },
  {
   "cell_type": "markdown",
   "metadata": {},
   "source": [
    "### Solution\n",
    "\n",
    "$Ax=b$ and $Ay=b$, so $A(x+y)=Ax+Ay=2b$.  [The key property that $A(x+y)=Ax+Ay$ is called *linearity*, and is what makes matrix multiplication a part of *linear* algebra.]   But we want $b$ on the right-hand side, so we can just divide both sides by 2: $A((x+y)/2) = b$, so $(x+y)/2$ is a solution.  (Since $x \\ne y$, this is a *new* solution, halfway between $x$ and $y$.)\n",
    "\n",
    "In fact, there are infinitely many solutions: anything on the line connecting $x$ and $y$.   Let z = tx + (1-t)y for any number t.  Then $z$ lies on the line connecting $x$ and $y$, and in fact as $t$ varies over all real numbers $t$ the vector $z$ traverses this entire line (check this on paper with your favorite vectors $x$ and $y$ in the plane!).  Then $z$ is another solution, again thanks to linearity: $$Az = A(tx + (1-t)y) = tAx + (1 - t)Ay = tb + (1 - t)b = b.$$"
   ]
  },
  {
   "cell_type": "markdown",
   "metadata": {},
   "source": [
    "## Problem 4 (10 points)\n",
    "\n",
    "(From Strang, section 2.2, problem 14.) Consider Gaussian elimination on the following system of equations:\n",
    "\n",
    "$$\n",
    "2x + 5y + z = 0 \\\\\n",
    "4x + dy + z = 2 \\\\\n",
    "y - z = 3\n",
    "$$\n",
    "\n",
    "(Write your solution in matrix form.)\n",
    "\n",
    "* What number $d$ forces you to do a row exchange during elimination, and what (non-singular) triangular system do you obtain for that $d$?\n",
    "* What value of $d$ would make this system singular (no third pivot, i.e. no way to get a triangular system with 3 nonzero values on the diagonal)?"
   ]
  },
  {
   "cell_type": "markdown",
   "metadata": {},
   "source": [
    "### Solution\n",
    "\n",
    "In matrix form, the system of equations is: $$\\begin{pmatrix} 2 & 5 & 1 \\\\ 4 & d & 1 \\\\ 0 & 1 & -1\\end{pmatrix}\\begin{pmatrix} x \\\\ y \\\\ z\\end{pmatrix} = \\begin{pmatrix} 0 \\\\ 2 \\\\ 3\\end{pmatrix}.$$  Now consider performing Gaussian elimination on the associated augmented $3 \\times 4.$  Subtracting twice the first row from the second to eliminate the 2-1 entry gives:\n",
    "$$\\left(\\begin{array}{ccc|c}  \n",
    " 2 & 5 & 1 & 0\\\\\n",
    " 0 & d - 10 & -1 & 2\\\\\n",
    " 0 & 1 & -1 & 3\n",
    "\\end{array}\\right).\n",
    "$$\n",
    "\n",
    "We need to do a row exchange (of the second and third rows) if the 2-2 entry is 0, i.e $d - 10 = 0$, i.e. $d = 10$.  \n",
    "\n",
    "The system will be singular exactly when the second and third rows of the $3 \\times 3$ matrix above (ignoring the constants on the right) are scalar multiplies of one another; as the 2-3 and 3-3 entries both equal -1, this happens exactly when $d - 10 = 1$, i.e. when $d = 11$.\n",
    "\n",
    "In the first case, when $d = 10$, we have the augmented matrix:\n",
    "$$\\left(\\begin{array}{ccc|c}  \n",
    " 2 & 5 & 1 & 0\\\\\n",
    " 0 & 0 & -1 & 2\\\\\n",
    " 0 & 1 & -1 & 3\n",
    "\\end{array}\\right).\n",
    "$$  Exchanging the second and third rows gives:\n",
    "$$\\left(\\begin{array}{ccc|c}  \n",
    " 2 & 5 & 1 & 0\\\\\n",
    " 0 & 1 & -1 & 3 \\\\\n",
    " 0 & 0 & -1 & 2\n",
    "\\end{array}\\right),\n",
    "$$ a nonsingular triangular system corresponding to the system of linear equations\n",
    "$$\n",
    "2x + 5y + z = 0 \\\\\n",
    "y - z = 3 \\\\\n",
    "-z = 2.\n",
    "$$"
   ]
  },
  {
   "cell_type": "markdown",
   "metadata": {},
   "source": [
    "## Problem 5 (10 points)\n",
    "\n",
    "Given an exact count of the number of scalar additions and multiplications required to multiply $AB$ where $A$ and $B$ are two $m \\times m$ matrices, and compare to the count for $A + B$.  If you compute $AB + A + B$, which operation(s) will take most of the time for large $m$?  (You can assume additions and multiplications take the same amount of time, which is approximately true.)\n",
    "\n",
    "Determining performance on real computers is often quite a bit more complicated than just counting arithmetic operations, but it is still interesting to do some real timing.  The following code benchmarks $1000 \\times 1000$ and $2000 \\times 2000$ matrix multiplications (repeating each timing measurement 3 times to reduce noise — just look at the *smallest* time).  How does the ratio of the two times compare to your prediction about the operation counts?"
   ]
  },
  {
   "cell_type": "code",
   "execution_count": 16,
   "metadata": {},
   "outputs": [
    {
     "name": "stdout",
     "output_type": "stream",
     "text": [
      "  0.183616 seconds (228 allocations: 7.645 MiB)\n",
      "  0.167275 seconds (6 allocations: 7.630 MiB)\n",
      "  0.166910 seconds (6 allocations: 7.630 MiB)\n"
     ]
    }
   ],
   "source": [
    "m = 1000\n",
    "A = rand(m,m)\n",
    "B = rand(m,m)\n",
    "\n",
    "BLAS.set_num_threads(1) # only use a single processor — multiprocessing makes things much weirder\n",
    "@time A*B; @time A*B; @time A*B;"
   ]
  },
  {
   "cell_type": "code",
   "execution_count": 17,
   "metadata": {},
   "outputs": [
    {
     "name": "stdout",
     "output_type": "stream",
     "text": [
      "  1.290393 seconds (6 allocations: 30.518 MiB, 0.14% gc time)\n",
      "  1.271722 seconds (6 allocations: 30.518 MiB, 0.29% gc time)\n",
      "  1.271718 seconds (6 allocations: 30.518 MiB, 1.17% gc time)\n"
     ]
    }
   ],
   "source": [
    "m = 2000\n",
    "A = rand(m,m)\n",
    "B = rand(m,m)\n",
    "\n",
    "BLAS.set_num_threads(1) # only use a single processor — multiprocessing makes things much weirder\n",
    "@time A*B; @time A*B; @time A*B;"
   ]
  },
  {
   "cell_type": "markdown",
   "metadata": {},
   "source": [
    "### Solution\n",
    "\n",
    "Computing the product $AB$ amounts to computing each of the $m^2$ entries of $AB$ independently.  Each entry of the product is obtained as a product of a $1 \\times m$ row vector in $A$ with a $m \\times 1$ column vector in $B$.  The product of such vectors requires $m$ scalar multiplications and $m - 1$ scalar additions (to add the $m$ products together).  So it requires $2m - 1$ operations to compute each entry of $AB$, for a total of $m^2(2m - 1) = 2m^3 - m^2$ operations in total.  Notice that, for large m, this is dominated by the first term, so the number of operations grows proportional to $m^3$.   (This is sometimes denoted \"$O(m^3)$\" or, more precisely, \"$\\Theta(m^3)$\" *complexity* [in computer science](https://en.wikipedia.org/wiki/Big_O_notation).)\n",
    "\n",
    "To compute $A + B$, we need to compute each of the $m^2$ entries, and each entry requires just the addition of two scalars.  So this requires only $m^2$ operations.\n",
    "\n",
    "So for large $m$, computing $AB + A + B$ is dominated by determining the product $AB$.\n",
    "\n",
    "For $m = 1000$ computing $AB$ involves $1000^2(2*1000 - 1) = 1999000000$ operations, and for $m = 2000$ computing $AB$ involves $2000^2(2*2000 - 1) = 15996000000$ operations.  The ratio is $15996000000/1999000000 = 8.002001\\ldots \\approx 8$.  More simply, since the number of operations goes roughly proportional to $m^3$ for large $m$, doubling $m$ gives a factor of $2^3 = 8$. This agrees pretty well with the ratio of computation times seen above (1.27s/0.167s ≈ 7.6).\n",
    "\n",
    "* *Remark:* The exact timings that you get will vary, depending on what computer you used to run the benchmark.  The ratio should be close to 8, but won't be exactly 8 because computers are complicated — you can't predict performance just by counting operations, is [explained in more detail by this 2017 notebook from 18.S096](http://nbviewer.jupyter.org/github/stevengj/18S096-iap17/blob/master/lecture2/memory-matrices.ipynb).\n",
    "\n",
    "* *Remark:* All of the different \"perspectives\" on matrix multiplication that were presented in class and in the book require exactly the same $2m^3-m^2$ operations, just executed in different orders. In theory, it is actually possible to multiply two matrices with an operation count that grows more slowly than $m^3$.  The famous [\"Strassen\" algorithm](https://en.wikipedia.org/wiki/Strassen_algorithm) has a count roughly proportional to $m^{2.8074}$, and the [Coppersmith–Winograd algorithm](https://en.wikipedia.org/wiki/Coppersmith%E2%80%93Winograd_algorithm) needs only about $m^{2.24}$ operations (times a constant). In practice, however, these algorithms are virtually never used — they don't become advantageous until $m$ is so huge that arbitrary matrices are too big to multiply anyway.  Essentially all practical matrix libraries use an $m^3$ algorithm for generic matrices."
   ]
  },
  {
   "cell_type": "markdown",
   "metadata": {},
   "source": [
    "## Problem 6 (15 points)\n",
    "\n",
    "Consider the matrix:\n",
    "\n",
    "$$ A = \\begin{pmatrix} 1 & 1 & 1 \\\\ 0 & 4 & 0 \\\\ 2 & 4 & 5 \\end{pmatrix} $$\n",
    "\n",
    "* What matrix $E$ puts $A$ into upper-triangular form $EA = U$?  (Remember: this is the product of the matrices from the individual elimination steps.)\n",
    "\n",
    "* What matrix $F$ can you multiply by $A$ to put $A$ into *lower* triangular form $FA = L$?  (Hint: do Gaussian elimination \"upside down\", i.e. from the bottom up.)"
   ]
  },
  {
   "cell_type": "markdown",
   "metadata": {},
   "source": [
    "### Solution\n",
    "\n",
    "Finding $E$:\n",
    "\n",
    "Recall that a single elimination step is just *left* multiplication by an \"elementary matrix\".  For example, to eliminate the 3,1-entry by subtracting twice the first row from the third row is given by left multiplication by the elementary matrix $$ E_1 = \\begin{pmatrix} 1 & 0 & 0 \\\\ 0 & 1 & 0 \\\\ -2 & 0 & 1\\end{pmatrix},$$ and the multiplication gives $$E_1A = \\begin{pmatrix} 1 & 0 & 0 \\\\ 0 & 1 & 0 \\\\ -2 & 0 & 1\\end{pmatrix}\\begin{pmatrix} 1 & 1 & 1 \\\\ 0 & 4 & 0 \\\\ 2 & 4 & 5\\end{pmatrix} = \\begin{pmatrix}1 & 1 & 1 \\\\ 0 & 4 & 0 \\\\ 0 & 2 & 3\\end{pmatrix}.$$  To achieve upper-triangular form, we can then just subtract half the second row from the third row.  This is achieved by left multiplication by the matrix $$E_2 = \\begin{pmatrix} 1 & 0 & 0 \\\\ 0 & 1 & 0 \\\\ 0 & -0.5 & 1\\end{pmatrix},$$ giving $$(E_2E_1)A = E_2(E_1A) = \\begin{pmatrix} 1 & 0 & 0 \\\\ 0 & 1 & 0 \\\\ 0 & -0.5 & 1\\end{pmatrix}\\begin{pmatrix}1 & 1 & 1 \\\\ 0 & 4 & 0 \\\\ 0 & 2 & 3\\end{pmatrix} = \\begin{pmatrix}1 & 1 & 1 \\\\ 0 & 4 & 0 \\\\ 0 & 0 & 3\\end{pmatrix} = U.$$  So if $E = E_2E_1$ then we have $EA = E_2E_1A$ is upper-triangular, as needed.  Explicitly, $E$ is given by: $$E = E_2E_1 = \\begin{pmatrix} 1 & 0 & 0 \\\\ 0 & 1 & 0 \\\\ 0 & -0.5 & 1\\end{pmatrix}\\begin{pmatrix} 1 & 0 & 0 \\\\ 0 & 1 & 0 \\\\ -2 & 0 & 1\\end{pmatrix} = \\boxed{\\begin{pmatrix} 1 & 0 & 0 \\\\ 0 & 1 & 0 \\\\ -2 & -0.5 & 1\\end{pmatrix}}.$$\n",
    "\n",
    "* Remark: Note that this matrix $E$, when left-multiplied on another matrix $A$, can be viewed as simultaneously subtracting twice the first row and half of the second row from the third row of that matrix $A$.  Does this make it clear why in this case we actually have $E_2E_1 = E_1E_2$? - In general, matrix multiplication is not commutative.  In general, elementary matrices don't commute, and if we need to perform $k$ elimination steps, with the $i^{th}$ step achieved by left multiplication by elementary matrix $E_i$, then the entire elimination procedure is achieved by left multiplication by $E_k\\cdots E_1$ and *not* (necessarily) by $E_1 \\cdots E_k$.\n",
    "\n",
    "Finding $F$:\n",
    "\n",
    "Now we want to eliminate the entries *above* the diagonal, starting in the *last* column.  We can get rid of the 1,3-entry by subtracting 1/5 of the third column from the first.  This is achieved by left multiplication by the elementary matrix $$F_1 = \\begin{pmatrix} 1 & 0 & -1/5 \\\\ 0 & 1 & 0 \\\\ 0 & 0 & 1\\end{pmatrix},$$ giving $$F_1A = \\begin{pmatrix} 1 & 0 & -1/5 \\\\ 0 & 1 & 0 \\\\ 0 & 0 & 1\\end{pmatrix}\\begin{pmatrix} 1 & 1 & 1 \\\\ 0 & 4 & 0 \\\\ 2 & 4 & 5 \\end{pmatrix} = \\begin{pmatrix} 3/5 & 1/5 & 0 \\\\ 0 & 4 & 0 \\\\ 2 & 4 & 5 \\end{pmatrix}.$$  To get rid of the 1,2-entry, we can not subtract -1/20 of the second row from the first.  This is achieved by left multiplication by the elementary matrix $$F_1 = \\begin{pmatrix} 1 & -1/20 & 0 \\\\ 0 & 1 & 0 \\\\ 0 & 0 & 1\\end{pmatrix},$$ giving $$(F_2F_1)A = F_2(F_1A) = \\begin{pmatrix} 1 & -1/20 & 0 \\\\ 0 & 1 & 0 \\\\ 0 & 0 & 1\\end{pmatrix}\\begin{pmatrix} 3/5 & 1/5 & 0 \\\\ 0 & 4 & 0 \\\\ 2 & 4 & 5 \\end{pmatrix} = \\begin{pmatrix} 3/5 & 0 & 0 \\\\ 0 & 4 & 0 \\\\ 2 & 4 & 5 \\end{pmatrix} = L.$$  So the matrix $$F = F_2F_1 = \\begin{pmatrix} 1 & -1/20 & 0 \\\\ 0 & 1 & 0 \\\\ 0 & 0 & 1\\end{pmatrix}\\begin{pmatrix} 1 & 0 & -1/5 \\\\ 0 & 1 & 0 \\\\ 0 & 0 & 1\\end{pmatrix} = \\boxed{\\begin{pmatrix} 1 & -1/20 & -1/5 \\\\ 0 & 1 & 0 \\\\ 0 & 0 & 1\\end{pmatrix}}$$ does the job.\n",
    "\n",
    "* *Remark 1:* These matrices $E$ and $F$ are **not uniquely determined** by the problem statement - there are tons of acceptable answers, in fact infinitely many.  By problem 2, we know that the product of upper-triangular matrices is upper-triangular.  So if we have some (let's say nonsingular) matrix $E$ such that $EA = U$ with $U$ upper-triangular and *any* nonsingular upper-triangular matrix $U'$, then $U'E$ is non-singular and $(U'E)A = U'(EA) = U'U$ is again upper-triangular, so $U'E$ is another perfectly good matrix \"$E$\" as asked for.  So the matrix $E$ requested (and the corresponding upper triangular matrix $U$) is not unique, and there are as many good answers as there are upper triangular matrices.  A similar statement for the matrix $F$ (including problem 2 for lower triangular matrices) holds true as well, of course.\n",
    "\n",
    "* *Remark 2:* Note that no row swaps are needed in this case.  They are not forbidden, however, and if you do a row swap you will find that your elimination matrix is no longer triangular.  To regain the convenience of triangular factorizations in the presence of row swaps, we will introduce the PA=LU factorization in class.\n",
    "\n",
    "* *Remark 3:* As noted in class, some matrices *require* row swaps in order to obtain an upper-triangular form.  For example, consider: $$\\begin{pmatrix} 0 & 1 \\\\ 2 & 3\\end{pmatrix}$$ You cannot add any multiple of the first row to the third to obtain an upper-triangular matrix, and this matrix cannot be written in the form $LU$ with $L$ lower-triangular and $U$ upper-triangular."
   ]
  }
 ],
 "metadata": {
  "anaconda-cloud": {},
  "kernelspec": {
   "display_name": "Julia 0.6.0",
   "language": "julia",
   "name": "julia-0.6"
  },
  "language_info": {
   "file_extension": ".jl",
   "mimetype": "application/julia",
   "name": "julia",
   "version": "0.6.0"
  }
 },
 "nbformat": 4,
 "nbformat_minor": 1
}
