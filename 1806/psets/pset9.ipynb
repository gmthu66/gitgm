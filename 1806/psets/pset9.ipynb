{
 "cells": [
  {
   "cell_type": "markdown",
   "metadata": {},
   "source": [
    "# 18.06 pset 9 (due Wed 11/8 @11am)"
   ]
  },
  {
   "cell_type": "markdown",
   "metadata": {},
   "source": [
    "## Problem 1 (10 points)\n",
    "\n",
    "The trace of an $m\\times m$ matrix $A$ is the sum of the diagonal elements:\n",
    "$$\n",
    "\\operatorname{trace} A = \\sum_{i=1}^m a_{ii}\n",
    "$$\n",
    "where $a_{ij}$ is the entry in the i-th row and j-th column of $A$.\n",
    "\n",
    "In class, I claimed that $\\operatorname{trace}(AB) = \\operatorname{trace}(BA)$.  Show this, using the formula $\\sum_{k=1}^m a_{ik} b_{kj}$ for the (i,j) entry of $AB$ from lecture 2.  (You should be able to see a similar formula for the entries of BA.)"
   ]
  },
  {
   "cell_type": "markdown",
   "metadata": {},
   "source": [
    "## Problem 2 (3+5+3+5+3+5 points)\n",
    "\n",
    "(Based on Strang, section 6.2, problem 9.)\n",
    "\n",
    "Suppose we form the sequence\n",
    "\n",
    "$$\n",
    "g_0,g_1,g_2,g_3,\\ldots = 0, 1, \\frac{1}{2}, \\frac{3}{4}, \\frac{5}{8}, \\frac{11}{16}, \\frac{21}{32}, \\frac{43}{64}, \\frac{85}{128}, \\frac{171}{256}, \\frac{341}{512}, \\frac{683}{1024}, \\frac{1365}{2048}, \\frac{2731}{4096}, \\frac{5461}{8192}, \\frac{10923}{16384}, \\frac{21845}{32768}, \\ldots\n",
    "$$\n",
    "\n",
    "by the rule that $g_{k+2} = \\frac{g_{k+1} + g_k}{2}$: each number is the *average of the previous two*.\n",
    "\n",
    "**(a)** If we define $x_k = \\begin{pmatrix} g_{k+1} \\\\ g_k \\end{pmatrix}$, then write the rule for the sequence in matrix form: $x_{k+1} = A x_k$.  What is $A$?\n",
    "\n",
    "**(b)** Find the eigenvalues and eigenvectors of A.\n",
    "\n",
    "**(c)** The eigenvalues immediately tell which of these three possibilities: the sequence *blows up*, *decays*, or *goes to a constant* as $n\\to\\infty$?    Does this behavior depend on the starting vector $x_0$?\n",
    "\n",
    "**(d)** Find the limit as $n\\to\\infty$ of $A^n$ from the diagonalization of $A$.\n",
    "\n",
    "**(e)** If $g_0 = 0$ and $g_1 = 1$, i.e. $x_0 = \\begin{pmatrix} 1 \\\\ 0 \\end{pmatrix}$, then show that the sequence approaches 2/3.\n",
    "\n",
    "**(f)** With $g_0 = 0$ and $g_1 = 1$ as in the previous part, how fast does $g_n - 2/3$ go to zero?  In particular, what should $\\frac{g_{n+1} - 2/3}{g_n - 2/3}$ approach for large $n$?   Check your answer by the using the following Julia code, which numerically computes the sequence."
   ]
  },
  {
   "cell_type": "code",
   "execution_count": null,
   "metadata": {},
   "outputs": [],
   "source": [
    "function gsequence(n)\n",
    "    g = [0.0, 1.0]\n",
    "    for i = 3:n\n",
    "        push!(g, (g[end]+g[end-1])/2)\n",
    "    end\n",
    "    return g\n",
    "end\n",
    "gsequence(25)  # compute gₙ for n=0,1,…,24"
   ]
  },
  {
   "cell_type": "code",
   "execution_count": null,
   "metadata": {},
   "outputs": [],
   "source": [
    "gsequence(25) .- 2/3  # compute gₙ - 2/3"
   ]
  },
  {
   "cell_type": "markdown",
   "metadata": {},
   "source": [
    "## Problem 3 (5+5+5+5 points)\n",
    "\n",
    "*(Although you are encouraged to use Julia to check your answers for this question, your solutions should explain your answers analytically.)*\n",
    "\n",
    "The following matrix $M$ is a Markov matrix (its columns sum to 1):\n",
    "$$\n",
    "M=\\begin{pmatrix}\n",
    "0.3 & 0.4 & 0.5\\\\\n",
    "0.3 & 0.4 & 0.3\\\\\n",
    "0.4 & 0.2 & 0.2\n",
    "\\end{pmatrix}\n",
    "$$\n",
    "\n",
    "and its steady-state eigenvector ($\\lambda=1$) is $s = \\begin{pmatrix}\n",
    "7/18\\\\\n",
    "1/3\\\\\n",
    "5/18\n",
    "\\end{pmatrix}$.  (Normalized so that the components of $s$ sum to 1.)\n",
    "\n",
    "**(a)** If we let $x = \\begin{pmatrix} 2 \\\\ 0 \\\\ 0 \\end{pmatrix}$, what vector does $M^n x$ approach as $n \\to \\infty$, and why?  (Give the correct magnitude and direction!)\n",
    "\n",
    "**(b)** For the same $x$, in what direction does $(M^T)^n x$ point as $n\\to\\infty$?  (You don't need to give the correct *magnitude*, just give a vector in the correct *direction*.)\n",
    "\n",
    "**(c)** Multiplying $M^T x$ does *not* preserve the *sum* of the components of $x$, but it does preserve *some* linear combination of the components.  i.e. there is some $v\\ne 0$ such that $v^T M^T x = v^T x$ for all $x$.  Give one such $v$.\n",
    "\n",
    "**(d)** Using your answer from (c), give a more exact answer to (b): give the *exact* vector (including magnitude) that $(M^T)^n x$ tends to as $n\\to \\infty$."
   ]
  },
  {
   "cell_type": "code",
   "execution_count": null,
   "metadata": {
    "collapsed": true
   },
   "outputs": [],
   "source": [
    "M = [0.3 0.4 0.5\n",
    "     0.3 0.4 0.3\n",
    "     0.4 0.2 0.2]\n",
    "s = [7/18, 1/3, 5/18]\n",
    "\n",
    "# check steady state:\n",
    "(M - I) * s"
   ]
  }
 ],
 "metadata": {
  "kernelspec": {
   "display_name": "Julia 0.6.0",
   "language": "julia",
   "name": "julia-0.6"
  },
  "language_info": {
   "file_extension": ".jl",
   "mimetype": "application/julia",
   "name": "julia",
   "version": "0.6.0"
  }
 },
 "nbformat": 4,
 "nbformat_minor": 2
}
