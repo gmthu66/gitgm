{
 "cells": [
  {
   "cell_type": "markdown",
   "metadata": {},
   "source": [
    "# 18.06 pset 10 (due Wednesday Nov. 15 at 11am)"
   ]
  },
  {
   "cell_type": "markdown",
   "metadata": {},
   "source": [
    "## Problem 1 (10+10+10+10 points)\n",
    "\n",
    "If $M$ is an $m\\times m$ Markov matrix with positive entries, consider the system of ODEs $$\\frac{dx}{dt} = (M-I)x$$.\n",
    "\n",
    "**(a)** Explain why the sum of the components of $x(t)$ is \"conserved\": that is, $o^T x(t)$ is the same number for all $t$, where $o$ is the vector of $m$ 1's.  (Hint: look at problem 2 of pset 5.)\n",
    "\n",
    "**(b)** What do the eigenvalues of $M$ (positive Markov: one λ=1 eigenvalue and the remainder have $|\\lambda|<1$) tell you about the solution $x(t)$ for large $t$?  Does it blow up, oscillate, decay to zero, or … ?\n",
    "\n",
    "**(c)** Given the initial condition $x(0)$, give a formula for the solution $x(\\infty) = \\lim_{t\\to\\infty} x(t)$ in terms of $x(0)$, $o$, and the \"steady-state\" eigenvector $v_0$ ($M v_0 = v_0$) of $M$.\n",
    "\n",
    "**(d)** Check your answers to (a) and (c) by using the following Julia code to generate a random 5×5 positive Markov matrix, a random initial condition, and evaluating $x(t)=e^{(M-I)t} x(0)$ via `expm((M-I)*t)*x₀` for one or more values of `t` in Julia."
   ]
  },
  {
   "cell_type": "code",
   "execution_count": null,
   "metadata": {},
   "outputs": [],
   "source": [
    "# generate a random 5×5 Markov matrix\n",
    "M = rand(5,5)\n",
    "M = M ./ sum(M, 1)"
   ]
  },
  {
   "cell_type": "code",
   "execution_count": null,
   "metadata": {},
   "outputs": [],
   "source": [
    "v₀ = nullspace(M-I) # the λ=1 eigenvector of M"
   ]
  },
  {
   "cell_type": "code",
   "execution_count": null,
   "metadata": {},
   "outputs": [],
   "source": [
    "o = ones(v₀) # the vector of 1's"
   ]
  },
  {
   "cell_type": "code",
   "execution_count": null,
   "metadata": {},
   "outputs": [],
   "source": [
    "x₀ = randn(length(o)) # a random initial condition"
   ]
  },
  {
   "cell_type": "code",
   "execution_count": null,
   "metadata": {},
   "outputs": [],
   "source": [
    "t = 100\n",
    "x = expm((M-I) * t) * x₀  # the solution x(t)"
   ]
  },
  {
   "cell_type": "code",
   "execution_count": null,
   "metadata": {},
   "outputs": [],
   "source": [
    "sum(x), sum(x₀)   # compare the sums of the components of x(t) and x(0)"
   ]
  },
  {
   "cell_type": "code",
   "execution_count": null,
   "metadata": {},
   "outputs": [],
   "source": [
    "???? # enter your formula from (c) and compare it to x"
   ]
  },
  {
   "cell_type": "markdown",
   "metadata": {},
   "source": [
    "## Problem 2 (5+5+10+10+5 points)\n",
    "\n",
    "Suppose that we have a second-order system of ODEs, of the form:\n",
    "$$\n",
    "\\ddot{x} = \\frac{d^2 x}{dt^2} = A x\n",
    "$$\n",
    "\n",
    "where $A$ is an $m \\times m$ matrix and we use $\\dot{x}$ to denote $dx/dt$ and $\\ddot{x}$ to denote $d^2 x/dt^2$.\n",
    "\n",
    "If $A=a$ and $x$ are scalars, this becomes the scalar ODE $\\frac{d^2 x}{dt^2} = a x$.  If we let $\\kappa = \\sqrt{a}$, then it is easy to check that the solutions (assuming $a \\ne 0$) are of the form $x(t) = c e^{+\\kappa t} + d e^{-\\kappa t}$ where $c$ and $d$ are determined by initial conditions $x(0)$ and $\\dot{x}(0)$.\n",
    "\n",
    "**(a)** For the scalar case, show that the same solution can also be written $x(t) = \\alpha \\cosh(\\kappa t) + \\beta \\sinh(\\kappa t)$ in terms of the [hyperbolic functions](https://en.wikipedia.org/wiki/Hyperbolic_function) cosh and sinh.  What are $\\alpha$ and $\\beta$ in terms of $c$ and $d$ from the solution above?  What are $\\alpha$ and $\\beta$ in terms of $x(0)$ and $\\dot{x}(0)$?\n",
    "\n",
    "**(b)** For the scalar case, if $a < 0$ then we have a purely imaginary $\\sqrt{a} = \\kappa = i\\omega$ for a real $\\omega$.   Using your answers from the previous part, write $x(t)$ as a purely real function (for real initial conditions) in terms of $\\cos(\\omega t)$ and $\\sin(\\omega t)$.   Note that $\\cosh(iy) = \\cos(y)$ and $\\sinh(iy) = i\\sin(y)$.\n",
    "\n",
    "**(c)** If $v$ is an eigenvector of $A$ with eigenvalue $\\lambda$, find a solution $x(t)$ of $\\ddot{x} = A x$ given by $v$ multiplied by some scalar function $f(t)$.   (Hint: for $v$, remember that $A$ acts like a scalar.  Your function can be written in terms of $\\cosh$ and $\\sinh$ of ...?)\n",
    "\n",
    "**(d)** Suppose $A$ is diagonalizable, with a basis eigenvectors $v_1, \\ldots, v_m$ and eigenvalues $\\lambda_1, \\ldots, \\lambda_m$.   Expand your solution $x(t)$ in the basis of these eigenvectors by adding up your answers from (c).   If we write the initial conditions in the basis of the eigenvectors, $x(0) = \\sum_k c_k v_k$ and $\\dot{x}(0) = \\sum_k d_k v_k$ for coefficients c and d, you should be able to give an **explicit formula for x(t)** in terms of the $c_k$, $d_k$, $v_k$, and $\\lambda_k$.\n",
    "\n",
    "**(e)** You will get *sinusoidally oscillating* (not growing or decaying) solutions if all of the eigenvalues of A are .........?"
   ]
  },
  {
   "cell_type": "markdown",
   "metadata": {},
   "source": [
    "## Problem 3 (10+10+10 points)\n",
    "\n",
    "(From Strang, section 6.3, problem 8.)\n",
    "\n",
    "The following ODEs describe the population of rabbits (r) and wolves (w):\n",
    "$$\n",
    "\\frac{dr}{dt} = 6r - 2w, \\qquad \\frac{dw}{dt} = 2r + w .\n",
    "$$\n",
    "These equations make the rabbit population grow quickly (from $6r$) but decreases when there are more wolves (from $-2w$).  The wolf population always grows in this model.\n",
    "\n",
    "**(a)** Write this problem in matrix form, and find the eigenvalues and eigenvectors.\n",
    "\n",
    "**(b)** If $r(0)=w(0)=30$, give a formula for $r(t)$ and $w(t)$.\n",
    "\n",
    "**(c)** After a long time, what is the ratio of rabbits to wolves?"
   ]
  }
 ],
 "metadata": {
  "kernelspec": {
   "display_name": "Julia 0.6.0",
   "language": "julia",
   "name": "julia-0.6"
  },
  "language_info": {
   "file_extension": ".jl",
   "mimetype": "application/julia",
   "name": "julia",
   "version": "0.6.0"
  }
 },
 "nbformat": 4,
 "nbformat_minor": 2
}
