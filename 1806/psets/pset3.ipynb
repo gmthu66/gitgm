{
 "cells": [
  {
   "cell_type": "markdown",
   "metadata": {},
   "source": [
    "# 18.06 pset 3 (due Wed Sep 27, 11am)"
   ]
  },
  {
   "cell_type": "markdown",
   "metadata": {},
   "source": [
    "## Problem 1\n",
    "\n",
    "* Does $C(A)$ necessarily *contain* the $C(AB)$ or vice versa?  (That is, is $C(A) \\subseteq C(AB)$ or $C(AB) \\subseteq C(A)$?)\n",
    "* What needs to be true of $B$ to have $C(A) = C(AB)$ (for *all* $A$ matrices of compatible size)?\n",
    "* Give an example of a square matrix $A$ where $C(A^2)$ issmaller than $C(A)$.\n",
    "* Explain why $C(A) = C([A \\; AB])$: that is, augumenting $A$ with the additional columns $AB$ does not change the column space (for any $B$)."
   ]
  },
  {
   "cell_type": "markdown",
   "metadata": {},
   "source": [
    "## Problem 2\n",
    "\n",
    "(From Strang, section 3.2, problem 31.)  Find the reduced row echelon forms $R$, the rank, and the special solutions (i.e. a basis for $N(A)$) for each of these matrices:\n",
    "\n",
    "* The 3×4 matrix with all entries equal to 4.\n",
    "* The 3×4 matrix with entries $a_{ij} = i + j - 1$\n",
    "* The 3×4 matrix with $a_{ij} = (-1)^j$"
   ]
  },
  {
   "cell_type": "markdown",
   "metadata": {},
   "source": [
    "## Problem 3\n",
    "\n",
    "(From Strang, section 3.3, problem 5.)\n",
    "\n",
    "Under what conditions on $b_1$, $b_2$, and $b_3$ is this system solvable. (Include $b$ as a fourth column in elimination.)   Find all solutions (particular solution + nullspace vectors) when that condition holds:\n",
    "\n",
    "$$\n",
    "x + 2y - 2z = b_1 \\\\\n",
    "2x + 5y - 4z = b_2 \\\\\n",
    "4x + 9y - 8z = b_3\n",
    "$$"
   ]
  }
 ],
 "metadata": {
  "kernelspec": {
   "display_name": "Julia 0.6.0",
   "language": "julia",
   "name": "julia-0.6"
  },
  "language_info": {
   "file_extension": ".jl",
   "mimetype": "application/julia",
   "name": "julia",
   "version": "0.6.0"
  }
 },
 "nbformat": 4,
 "nbformat_minor": 2
}
